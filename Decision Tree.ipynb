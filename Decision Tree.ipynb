{
 "cells": [
  {
   "cell_type": "code",
   "execution_count": 314,
   "metadata": {},
   "outputs": [],
   "source": [
    "import pandas as pd\n",
    "import numpy as np\n",
    "from datetime import datetime\n",
    "\n",
    "import matplotlib.pyplot as plt"
   ]
  },
  {
   "cell_type": "code",
   "execution_count": 318,
   "metadata": {},
   "outputs": [],
   "source": [
    "def clean_name(series): \n",
    "    new=[]\n",
    "    for x in series:\n",
    "        if x%1==0:\n",
    "            new += [str(int(x))]\n",
    "\n",
    "        else:\n",
    "            new += [str(x)]\n",
    "    return new"
   ]
  },
  {
   "cell_type": "code",
   "execution_count": 347,
   "metadata": {},
   "outputs": [],
   "source": [
    "buyouts = pd.read_csv('buyouts.csv')\n",
    "elevation = pd.read_csv('elevation.csv')\n",
    "coffee = pd.read_csv('coffee_sf_filtered.csv')\n",
    "\n",
    "buyouts['name']=clean_name(buyouts.name)\n",
    "buyouts = buyouts.set_index('name')\n",
    "buyouts['year'] = pd.to_datetime(buyouts['Pre Buyout Disclosure Declaration Date']).dt.year\n",
    "buyouts = buyouts[buyouts['year'].notna()]\n",
    "grouped = buyouts.groupby(['name','year']).size().unstack().fillna(0).iloc[:,:-2]\n",
    "\n",
    "elevation = elevation.set_index(elevation['name.1'].apply(lambda x: x[:-1]))\n",
    "\n",
    "coffee['name']=clean_name(coffee.NAME)\n",
    "coffee = coffee.set_index('name')\n",
    "coffee = coffee.groupby(coffee.index).size()"
   ]
  },
  {
   "cell_type": "code",
   "execution_count": 499,
   "metadata": {},
   "outputs": [
    {
     "data": {
      "text/plain": [
       "Index(['Unnamed: 0', 'Case Number', 'Pre Buyout Disclosure Declaration Date',\n",
       "       'Buyout Agreement Date', 'Buyout Amount', 'Unknown Amount',\n",
       "       'Other Consideration', 'Number of Tenants', 'Address', 'ZIP Code',\n",
       "       'Supervisor District', 'Analysis Neighborhood', 'point',\n",
       "       'geocoding_confidence', 'SF Find Neighborhoods',\n",
       "       'Current Police Districts', 'Current Supervisor Districts',\n",
       "       'Analysis Neighborhoods', 'Areas of Vulnerability, 2016',\n",
       "       'Central Market/Tenderloin Boundary',\n",
       "       'Invest In Neighborhoods (IIN) Areas',\n",
       "       'Civic Center Harm Reduction Project Boundary', 'Neighborhoods', 'poly',\n",
       "       'geo_str', 'year', 'date', 'long', 'lat'],\n",
       "      dtype='object')"
      ]
     },
     "execution_count": 499,
     "metadata": {},
     "output_type": "execute_result"
    }
   ],
   "source": [
    "buyouts\n",
    "buyouts['date']= buyouts['Pre Buyout Disclosure Declaration Date'].apply(lambda x: x.replace('/','-'))\n",
    "long = buyouts['point'].apply(lambda x: x.replace('POINT (','').strip().replace(' ',',').replace(')','').split(',')[0])\n",
    "lat = buyouts['point'].apply(lambda x: x.replace('POINT (','').strip().replace(' ',',').replace(')','').split(',')[1])\n",
    "buyouts['long']=long\n",
    "buyouts['lat']=lat\n",
    "buyouts[['long','lat','date','Buyout Amount','Number of Tenants']]\n",
    "buyouts.columns\n"
   ]
  },
  {
   "cell_type": "code",
   "execution_count": 348,
   "metadata": {},
   "outputs": [],
   "source": [
    "pca = pd.read_csv('pca_result')\n",
    "pca['name']=clean_name(pca.name)\n",
    "pca = pca.set_index('name')\n",
    "pca['y'] = None\n",
    "pca.loc[pca[(pca['2018']-pca['2010'])>0].index,'y']=1\n",
    "pca.loc[pca[(pca['2018']-pca['2010'])<0].index,'y']=0\n",
    "pca = pca.dropna()"
   ]
  },
  {
   "cell_type": "code",
   "execution_count": 349,
   "metadata": {},
   "outputs": [
    {
     "data": {
      "text/html": [
       "<div>\n",
       "<style scoped>\n",
       "    .dataframe tbody tr th:only-of-type {\n",
       "        vertical-align: middle;\n",
       "    }\n",
       "\n",
       "    .dataframe tbody tr th {\n",
       "        vertical-align: top;\n",
       "    }\n",
       "\n",
       "    .dataframe thead th {\n",
       "        text-align: right;\n",
       "    }\n",
       "</style>\n",
       "<table border=\"1\" class=\"dataframe\">\n",
       "  <thead>\n",
       "    <tr style=\"text-align: right;\">\n",
       "      <th></th>\n",
       "      <th>2010</th>\n",
       "      <th>2011</th>\n",
       "      <th>2012</th>\n",
       "      <th>2013</th>\n",
       "      <th>2014</th>\n",
       "      <th>2015</th>\n",
       "      <th>2016</th>\n",
       "      <th>2017</th>\n",
       "      <th>2018</th>\n",
       "      <th>y</th>\n",
       "    </tr>\n",
       "    <tr>\n",
       "      <th>name</th>\n",
       "      <th></th>\n",
       "      <th></th>\n",
       "      <th></th>\n",
       "      <th></th>\n",
       "      <th></th>\n",
       "      <th></th>\n",
       "      <th></th>\n",
       "      <th></th>\n",
       "      <th></th>\n",
       "      <th></th>\n",
       "    </tr>\n",
       "  </thead>\n",
       "  <tbody>\n",
       "    <tr>\n",
       "      <th>101</th>\n",
       "      <td>286380.985628</td>\n",
       "      <td>340047.702884</td>\n",
       "      <td>174330.423364</td>\n",
       "      <td>42884.871786</td>\n",
       "      <td>-34944.399380</td>\n",
       "      <td>-152797.460472</td>\n",
       "      <td>-162664.523922</td>\n",
       "      <td>-243689.518542</td>\n",
       "      <td>-249548.081347</td>\n",
       "      <td>0</td>\n",
       "    </tr>\n",
       "    <tr>\n",
       "      <th>102</th>\n",
       "      <td>337158.426298</td>\n",
       "      <td>409680.567794</td>\n",
       "      <td>255869.222450</td>\n",
       "      <td>90471.441894</td>\n",
       "      <td>1324.803609</td>\n",
       "      <td>-201009.805142</td>\n",
       "      <td>-221498.669023</td>\n",
       "      <td>-286422.784545</td>\n",
       "      <td>-385573.203336</td>\n",
       "      <td>0</td>\n",
       "    </tr>\n",
       "    <tr>\n",
       "      <th>103</th>\n",
       "      <td>336431.509040</td>\n",
       "      <td>409314.018647</td>\n",
       "      <td>256093.534333</td>\n",
       "      <td>90736.852995</td>\n",
       "      <td>1622.969479</td>\n",
       "      <td>-200354.086280</td>\n",
       "      <td>-221530.600725</td>\n",
       "      <td>-286436.716785</td>\n",
       "      <td>-385877.480704</td>\n",
       "      <td>0</td>\n",
       "    </tr>\n",
       "    <tr>\n",
       "      <th>104</th>\n",
       "      <td>286743.042901</td>\n",
       "      <td>339929.406176</td>\n",
       "      <td>174926.242099</td>\n",
       "      <td>43033.491710</td>\n",
       "      <td>-34897.126973</td>\n",
       "      <td>-153124.565061</td>\n",
       "      <td>-163017.465315</td>\n",
       "      <td>-243573.437105</td>\n",
       "      <td>-250019.588432</td>\n",
       "      <td>0</td>\n",
       "    </tr>\n",
       "    <tr>\n",
       "      <th>105</th>\n",
       "      <td>219629.242399</td>\n",
       "      <td>281171.660206</td>\n",
       "      <td>85895.209232</td>\n",
       "      <td>-17394.332622</td>\n",
       "      <td>-70274.506822</td>\n",
       "      <td>-156967.563876</td>\n",
       "      <td>-99170.902626</td>\n",
       "      <td>-113929.830730</td>\n",
       "      <td>-128958.975161</td>\n",
       "      <td>0</td>\n",
       "    </tr>\n",
       "    <tr>\n",
       "      <th>...</th>\n",
       "      <td>...</td>\n",
       "      <td>...</td>\n",
       "      <td>...</td>\n",
       "      <td>...</td>\n",
       "      <td>...</td>\n",
       "      <td>...</td>\n",
       "      <td>...</td>\n",
       "      <td>...</td>\n",
       "      <td>...</td>\n",
       "      <td>...</td>\n",
       "    </tr>\n",
       "    <tr>\n",
       "      <th>610</th>\n",
       "      <td>-195626.615654</td>\n",
       "      <td>-259609.606382</td>\n",
       "      <td>-210332.766462</td>\n",
       "      <td>-93854.091346</td>\n",
       "      <td>-11348.580095</td>\n",
       "      <td>106917.858999</td>\n",
       "      <td>162937.883914</td>\n",
       "      <td>221478.277255</td>\n",
       "      <td>279437.639772</td>\n",
       "      <td>1</td>\n",
       "    </tr>\n",
       "    <tr>\n",
       "      <th>611</th>\n",
       "      <td>251206.185321</td>\n",
       "      <td>312578.881433</td>\n",
       "      <td>161972.090985</td>\n",
       "      <td>18170.981877</td>\n",
       "      <td>-71517.305717</td>\n",
       "      <td>-164465.184756</td>\n",
       "      <td>-115726.605292</td>\n",
       "      <td>-161155.390424</td>\n",
       "      <td>-231063.653428</td>\n",
       "      <td>0</td>\n",
       "    </tr>\n",
       "    <tr>\n",
       "      <th>612</th>\n",
       "      <td>-195714.213251</td>\n",
       "      <td>-259527.912944</td>\n",
       "      <td>-210387.006125</td>\n",
       "      <td>-93869.505077</td>\n",
       "      <td>-11443.302127</td>\n",
       "      <td>106809.260443</td>\n",
       "      <td>162887.075750</td>\n",
       "      <td>221622.151176</td>\n",
       "      <td>279623.452154</td>\n",
       "      <td>1</td>\n",
       "    </tr>\n",
       "    <tr>\n",
       "      <th>614</th>\n",
       "      <td>-331292.065571</td>\n",
       "      <td>-337174.867933</td>\n",
       "      <td>-241979.372845</td>\n",
       "      <td>-89139.820643</td>\n",
       "      <td>-5782.482240</td>\n",
       "      <td>155340.314342</td>\n",
       "      <td>166819.112488</td>\n",
       "      <td>246200.918023</td>\n",
       "      <td>437008.264378</td>\n",
       "      <td>1</td>\n",
       "    </tr>\n",
       "    <tr>\n",
       "      <th>615</th>\n",
       "      <td>328009.267634</td>\n",
       "      <td>345407.515651</td>\n",
       "      <td>203183.547505</td>\n",
       "      <td>69428.671527</td>\n",
       "      <td>-47115.182454</td>\n",
       "      <td>-217128.966631</td>\n",
       "      <td>-204498.745359</td>\n",
       "      <td>-220543.880590</td>\n",
       "      <td>-256742.227281</td>\n",
       "      <td>0</td>\n",
       "    </tr>\n",
       "  </tbody>\n",
       "</table>\n",
       "<p>188 rows × 10 columns</p>\n",
       "</div>"
      ],
      "text/plain": [
       "               2010           2011           2012          2013          2014  \\\n",
       "name                                                                            \n",
       "101   286380.985628  340047.702884  174330.423364  42884.871786 -34944.399380   \n",
       "102   337158.426298  409680.567794  255869.222450  90471.441894   1324.803609   \n",
       "103   336431.509040  409314.018647  256093.534333  90736.852995   1622.969479   \n",
       "104   286743.042901  339929.406176  174926.242099  43033.491710 -34897.126973   \n",
       "105   219629.242399  281171.660206   85895.209232 -17394.332622 -70274.506822   \n",
       "...             ...            ...            ...           ...           ...   \n",
       "610  -195626.615654 -259609.606382 -210332.766462 -93854.091346 -11348.580095   \n",
       "611   251206.185321  312578.881433  161972.090985  18170.981877 -71517.305717   \n",
       "612  -195714.213251 -259527.912944 -210387.006125 -93869.505077 -11443.302127   \n",
       "614  -331292.065571 -337174.867933 -241979.372845 -89139.820643  -5782.482240   \n",
       "615   328009.267634  345407.515651  203183.547505  69428.671527 -47115.182454   \n",
       "\n",
       "               2015           2016           2017           2018  y  \n",
       "name                                                                 \n",
       "101  -152797.460472 -162664.523922 -243689.518542 -249548.081347  0  \n",
       "102  -201009.805142 -221498.669023 -286422.784545 -385573.203336  0  \n",
       "103  -200354.086280 -221530.600725 -286436.716785 -385877.480704  0  \n",
       "104  -153124.565061 -163017.465315 -243573.437105 -250019.588432  0  \n",
       "105  -156967.563876  -99170.902626 -113929.830730 -128958.975161  0  \n",
       "...             ...            ...            ...            ... ..  \n",
       "610   106917.858999  162937.883914  221478.277255  279437.639772  1  \n",
       "611  -164465.184756 -115726.605292 -161155.390424 -231063.653428  0  \n",
       "612   106809.260443  162887.075750  221622.151176  279623.452154  1  \n",
       "614   155340.314342  166819.112488  246200.918023  437008.264378  1  \n",
       "615  -217128.966631 -204498.745359 -220543.880590 -256742.227281  0  \n",
       "\n",
       "[188 rows x 10 columns]"
      ]
     },
     "execution_count": 349,
     "metadata": {},
     "output_type": "execute_result"
    }
   ],
   "source": [
    "pca"
   ]
  },
  {
   "cell_type": "code",
   "execution_count": 422,
   "metadata": {},
   "outputs": [
    {
     "data": {
      "text/plain": [
       "name\n",
       "109        2017\n",
       "109        2018\n",
       "109        2017\n",
       "109        2017\n",
       "109        2016\n",
       "           ... \n",
       "604        2017\n",
       "9805.01    2018\n",
       "9805.01    2017\n",
       "332.03     2019\n",
       "9803       2018\n",
       "Name: Pre Buyout Disclosure Declaration Date, Length: 4138, dtype: int64"
      ]
     },
     "execution_count": 422,
     "metadata": {},
     "output_type": "execute_result"
    }
   ],
   "source": [
    "elevation['max elevation']\n",
    "pd.to_datetime(buyouts['Pre Buyout Disclosure Declaration Date']).dt.year"
   ]
  },
  {
   "cell_type": "code",
   "execution_count": 444,
   "metadata": {},
   "outputs": [],
   "source": [
    "data = pca.merge(elevation['max elevation'],left_index=True,right_index=True)[['y','max elevation']]\n",
    "data = data.merge(grouped,left_index=True,right_index=True)\n",
    "data = data.merge(coffee.rename('coffee'),left_index=True,right_index=True)\n",
    "\n",
    "X = data.iloc[:,1:]\n",
    "y = data.iloc[:,0]\n",
    "y=y.astype(int)"
   ]
  },
  {
   "cell_type": "code",
   "execution_count": 473,
   "metadata": {},
   "outputs": [
    {
     "data": {
      "text/plain": [
       "0.6666666666666666"
      ]
     },
     "execution_count": 473,
     "metadata": {},
     "output_type": "execute_result"
    },
    {
     "data": {
      "image/png": "[encoded data removed]",
      "text/plain": [
       "<Figure size 432x288 with 1 Axes>"
      ]
     },
     "metadata": {
      "needs_background": "light"
     },
     "output_type": "display_data"
    }
   ],
   "source": [
    "from sklearn import tree\n",
    "from sklearn.datasets import load_iris\n",
    "from sklearn.model_selection import train_test_split\n",
    "\n",
    "X_train, X_test, y_train, y_test = train_test_split(X, y, test_size=0.20,random_state=0)\n",
    "clf = tree.DecisionTreeClassifier(max_depth=2)\n",
    "clf = clf.fit(X_train,y_train)\n",
    "tree.plot_tree(clf) \n",
    "clf.score(X_test,y_test)"
   ]
  },
  {
   "cell_type": "code",
   "execution_count": 436,
   "metadata": {},
   "outputs": [
    {
     "data": {
      "text/plain": [
       "20"
      ]
     },
     "execution_count": 436,
     "metadata": {},
     "output_type": "execute_result"
    }
   ],
   "source": [
    "len(X[:20])"
   ]
  },
  {
   "cell_type": "code",
   "execution_count": 437,
   "metadata": {},
   "outputs": [],
   "source": [
    "diff = pca['2018']-pca['2010']\n",
    "data = data.merge(diff.rename('new'),left_index=True,right_index=True)"
   ]
  },
  {
   "cell_type": "code",
   "execution_count": 241,
   "metadata": {},
   "outputs": [
    {
     "data": {
      "text/plain": [
       "101     2.0\n",
       "102     7.0\n",
       "103    17.0\n",
       "104     9.0\n",
       "106     5.0\n",
       "       ... \n",
       "610     2.0\n",
       "611     1.0\n",
       "612     5.0\n",
       "614     4.0\n",
       "615     3.0\n",
       "Name: 2018, Length: 180, dtype: float64"
      ]
     },
     "execution_count": 241,
     "metadata": {},
     "output_type": "execute_result"
    }
   ],
   "source": [
    "X[2018]"
   ]
  },
  {
   "cell_type": "code",
   "execution_count": null,
   "metadata": {},
   "outputs": [],
   "source": []
  }
 ],
 "metadata": {
  "kernelspec": {
   "display_name": "Python 3",
   "language": "python",
   "name": "python3"
  },
  "language_info": {
   "codemirror_mode": {
    "name": "ipython",
    "version": 3
   },
   "file_extension": ".py",
   "mimetype": "text/x-python",
   "name": "python",
   "nbconvert_exporter": "python",
   "pygments_lexer": "ipython3",
   "version": "3.7.2"
  }
 },
 "nbformat": 4,
 "nbformat_minor": 4
}
