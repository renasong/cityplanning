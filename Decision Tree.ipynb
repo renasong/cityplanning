{
 "cells": [
  {
   "cell_type": "code",
   "execution_count": 314,
   "metadata": {},
   "outputs": [],
   "source": [
    "import pandas as pd\n",
    "import numpy as np\n",
    "from datetime import datetime\n",
    "\n",
    "import matplotlib.pyplot as plt"
   ]
  },
  {
   "cell_type": "code",
   "execution_count": 318,
   "metadata": {},
   "outputs": [],
   "source": [
    "def clean_name(series): \n",
    "    new=[]\n",
    "    for x in series:\n",
    "        if x%1==0:\n",
    "            new += [str(int(x))]\n",
    "\n",
    "        else:\n",
    "            new += [str(x)]\n",
    "    return new"
   ]
  },
  {
   "cell_type": "markdown",
   "metadata": {},
   "source": [
    "## Crimes "
   ]
  },
  {
   "cell_type": "code",
   "execution_count": 655,
   "metadata": {},
   "outputs": [],
   "source": [
    "crime = pd.read_csv('crimes.csv')\n",
    "crime = crime.groupby(['NAME','Year']).size().unstack().fillna(0)"
   ]
  },
  {
   "cell_type": "code",
   "execution_count": 678,
   "metadata": {},
   "outputs": [],
   "source": [
    "#population census tracts\n",
    "p2010 = pd.read_csv('./demographics/2010_demographic.csv')\n",
    "p2010 = p2010.set_index(p2010['Geographic Area Name'].str.extract('(\\d+.*\\d+)')[0])\n",
    "p2010 = p2010.iloc[:,2]\n",
    "\n",
    "p2011 = pd.read_csv('./demographics/2011_demographic.csv')\n",
    "p2011 = p2011.set_index(p2011['Geographic Area Name'].str.extract('(\\d+.*\\d+)')[0])\n",
    "p2011 = p2011.iloc[:,2]\n",
    "\n",
    "p2012 = pd.read_csv('./demographics/2012_demographic.csv')\n",
    "p2012 = p2012.set_index(p2012['Geographic Area Name'].str.extract('(\\d+.*\\d+)')[0])\n",
    "p2012 = p2012.iloc[:,2]\n",
    "\n",
    "p2013 = pd.read_csv('./demographics/2013_demographic.csv')\n",
    "p2013 = p2013.set_index(p2013['Geographic Area Name'].str.extract('(\\d+.*\\d+)')[0])\n",
    "p2013 = p2013.iloc[:,2]\n",
    "\n",
    "p2014 = pd.read_csv('./demographics/2014_demographic.csv')\n",
    "p2014 = p2014.set_index(p2014['Geographic Area Name'].str.extract('(\\d+.*\\d+)')[0])\n",
    "p2014 = p2014.iloc[:,2]\n",
    "\n",
    "p2015 = pd.read_csv('./demographics/2015_demographic.csv')\n",
    "p2015 = p2015.set_index(p2015['Geographic Area Name'].str.extract('(\\d+.*\\d+)')[0])\n",
    "p2015 = p2015.iloc[:,2]\n",
    "\n",
    "p2016 = pd.read_csv('./demographics/2016_demographic.csv')\n",
    "p2016 = p2016.set_index(p2016['Geographic Area Name'].str.extract('(\\d+.*\\d+)')[0])\n",
    "p2016 = p2016.iloc[:,2]\n",
    "\n",
    "p2017 = pd.read_csv('./demographics/2017_demographic.csv')\n",
    "p2017 = p2017.set_index(p2017['Geographic Area Name'].str.extract('(\\d+.*\\d+)')[0])\n",
    "p2017 = p2017.iloc[:,2]\n",
    "\n",
    "p2018 = pd.read_csv('./demographics/2018_demographic.csv')\n",
    "p2018 = p2018.set_index(p2018['Geographic Area Name'].str.extract('(\\d+.*\\d+)')[0])\n",
    "p2018 = p2018.iloc[:,2]\n",
    "\n",
    "lst_pop = [p2010,p2011,p2012,p2013,p2014,p2015,p2016,p2017,p2018]"
   ]
  },
  {
   "cell_type": "code",
   "execution_count": 691,
   "metadata": {},
   "outputs": [],
   "source": [
    "crime['name']=clean_name(crime.index)\n",
    "crime = crime.set_index('name')"
   ]
  },
  {
   "cell_type": "code",
   "execution_count": 734,
   "metadata": {},
   "outputs": [],
   "source": [
    "#serious crimes/population 221\n",
    "crime_chart = pd.DataFrame([crime.iloc[:,i]/lst_pop[i]for i in range(9)]).T*100\n",
    "crime_chart.columns=['2010','2011','2012','2013','2014','2015','2016','2017','2018']\n",
    "diff = (crime_chart['2018']-crime_chart['2010'])\n",
    "crime_chart['difference (2018 - 2010)']=abs_change\n",
    "crime_chart = crime_chart.sort_values(by='difference (2018 - 2010)', ascending=False)\n",
    "crime_chart.to_csv('crime 2010-2018.csv')"
   ]
  },
  {
   "cell_type": "code",
   "execution_count": 730,
   "metadata": {},
   "outputs": [
    {
     "data": {
      "text/html": [
       "<div>\n",
       "<style scoped>\n",
       "    .dataframe tbody tr th:only-of-type {\n",
       "        vertical-align: middle;\n",
       "    }\n",
       "\n",
       "    .dataframe tbody tr th {\n",
       "        vertical-align: top;\n",
       "    }\n",
       "\n",
       "    .dataframe thead th {\n",
       "        text-align: right;\n",
       "    }\n",
       "</style>\n",
       "<table border=\"1\" class=\"dataframe\">\n",
       "  <thead>\n",
       "    <tr style=\"text-align: right;\">\n",
       "      <th></th>\n",
       "      <th>2010</th>\n",
       "      <th>2011</th>\n",
       "      <th>2012</th>\n",
       "      <th>2013</th>\n",
       "      <th>2014</th>\n",
       "      <th>2015</th>\n",
       "      <th>2016</th>\n",
       "      <th>2017</th>\n",
       "      <th>2018</th>\n",
       "      <th>difference (2018 - 2010)</th>\n",
       "    </tr>\n",
       "  </thead>\n",
       "  <tbody>\n",
       "    <tr>\n",
       "      <th>9803</th>\n",
       "      <td>133.333333</td>\n",
       "      <td>106.060606</td>\n",
       "      <td>155.555556</td>\n",
       "      <td>82.051282</td>\n",
       "      <td>86.666667</td>\n",
       "      <td>91.025641</td>\n",
       "      <td>68.539326</td>\n",
       "      <td>47.619048</td>\n",
       "      <td>9.090909</td>\n",
       "      <td>-124.242424</td>\n",
       "    </tr>\n",
       "    <tr>\n",
       "      <th>180</th>\n",
       "      <td>9.655369</td>\n",
       "      <td>8.335788</td>\n",
       "      <td>6.943292</td>\n",
       "      <td>7.411504</td>\n",
       "      <td>5.878713</td>\n",
       "      <td>5.447230</td>\n",
       "      <td>5.397987</td>\n",
       "      <td>7.907133</td>\n",
       "      <td>2.491103</td>\n",
       "      <td>-7.164266</td>\n",
       "    </tr>\n",
       "    <tr>\n",
       "      <th>176.01</th>\n",
       "      <td>7.251779</td>\n",
       "      <td>7.123616</td>\n",
       "      <td>7.798986</td>\n",
       "      <td>7.165422</td>\n",
       "      <td>6.121884</td>\n",
       "      <td>6.687014</td>\n",
       "      <td>5.820781</td>\n",
       "      <td>5.562144</td>\n",
       "      <td>1.665945</td>\n",
       "      <td>-5.585834</td>\n",
       "    </tr>\n",
       "    <tr>\n",
       "      <th>9809</th>\n",
       "      <td>17.771084</td>\n",
       "      <td>14.603175</td>\n",
       "      <td>13.946588</td>\n",
       "      <td>21.862348</td>\n",
       "      <td>15.853659</td>\n",
       "      <td>20.664207</td>\n",
       "      <td>26.153846</td>\n",
       "      <td>37.603306</td>\n",
       "      <td>12.867647</td>\n",
       "      <td>-4.903437</td>\n",
       "    </tr>\n",
       "    <tr>\n",
       "      <th>125.01</th>\n",
       "      <td>5.269571</td>\n",
       "      <td>6.566431</td>\n",
       "      <td>6.164384</td>\n",
       "      <td>8.633094</td>\n",
       "      <td>6.371582</td>\n",
       "      <td>6.303648</td>\n",
       "      <td>4.945355</td>\n",
       "      <td>4.664232</td>\n",
       "      <td>1.224388</td>\n",
       "      <td>-4.045183</td>\n",
       "    </tr>\n",
       "    <tr>\n",
       "      <th>...</th>\n",
       "      <td>...</td>\n",
       "      <td>...</td>\n",
       "      <td>...</td>\n",
       "      <td>...</td>\n",
       "      <td>...</td>\n",
       "      <td>...</td>\n",
       "      <td>...</td>\n",
       "      <td>...</td>\n",
       "      <td>...</td>\n",
       "      <td>...</td>\n",
       "    </tr>\n",
       "    <tr>\n",
       "      <th>426.01</th>\n",
       "      <td>0.026867</td>\n",
       "      <td>0.211808</td>\n",
       "      <td>0.098839</td>\n",
       "      <td>0.192957</td>\n",
       "      <td>0.145950</td>\n",
       "      <td>0.248324</td>\n",
       "      <td>0.071856</td>\n",
       "      <td>0.050556</td>\n",
       "      <td>0.078452</td>\n",
       "      <td>0.051585</td>\n",
       "    </tr>\n",
       "    <tr>\n",
       "      <th>615</th>\n",
       "      <td>NaN</td>\n",
       "      <td>1.710832</td>\n",
       "      <td>1.849680</td>\n",
       "      <td>1.885695</td>\n",
       "      <td>1.468808</td>\n",
       "      <td>2.070178</td>\n",
       "      <td>1.700237</td>\n",
       "      <td>1.658973</td>\n",
       "      <td>0.535303</td>\n",
       "      <td>NaN</td>\n",
       "    </tr>\n",
       "    <tr>\n",
       "      <th>615.00</th>\n",
       "      <td>NaN</td>\n",
       "      <td>NaN</td>\n",
       "      <td>NaN</td>\n",
       "      <td>NaN</td>\n",
       "      <td>NaN</td>\n",
       "      <td>NaN</td>\n",
       "      <td>NaN</td>\n",
       "      <td>NaN</td>\n",
       "      <td>NaN</td>\n",
       "      <td>NaN</td>\n",
       "    </tr>\n",
       "    <tr>\n",
       "      <th>9804.01</th>\n",
       "      <td>NaN</td>\n",
       "      <td>NaN</td>\n",
       "      <td>NaN</td>\n",
       "      <td>NaN</td>\n",
       "      <td>NaN</td>\n",
       "      <td>NaN</td>\n",
       "      <td>NaN</td>\n",
       "      <td>NaN</td>\n",
       "      <td>NaN</td>\n",
       "      <td>NaN</td>\n",
       "    </tr>\n",
       "    <tr>\n",
       "      <th>9901</th>\n",
       "      <td>NaN</td>\n",
       "      <td>NaN</td>\n",
       "      <td>NaN</td>\n",
       "      <td>NaN</td>\n",
       "      <td>NaN</td>\n",
       "      <td>NaN</td>\n",
       "      <td>NaN</td>\n",
       "      <td>NaN</td>\n",
       "      <td>NaN</td>\n",
       "      <td>NaN</td>\n",
       "    </tr>\n",
       "  </tbody>\n",
       "</table>\n",
       "<p>198 rows × 10 columns</p>\n",
       "</div>"
      ],
      "text/plain": [
       "               2010        2011        2012       2013       2014       2015  \\\n",
       "9803     133.333333  106.060606  155.555556  82.051282  86.666667  91.025641   \n",
       "180        9.655369    8.335788    6.943292   7.411504   5.878713   5.447230   \n",
       "176.01     7.251779    7.123616    7.798986   7.165422   6.121884   6.687014   \n",
       "9809      17.771084   14.603175   13.946588  21.862348  15.853659  20.664207   \n",
       "125.01     5.269571    6.566431    6.164384   8.633094   6.371582   6.303648   \n",
       "...             ...         ...         ...        ...        ...        ...   \n",
       "426.01     0.026867    0.211808    0.098839   0.192957   0.145950   0.248324   \n",
       "615             NaN    1.710832    1.849680   1.885695   1.468808   2.070178   \n",
       "615.00          NaN         NaN         NaN        NaN        NaN        NaN   \n",
       "9804.01         NaN         NaN         NaN        NaN        NaN        NaN   \n",
       "9901            NaN         NaN         NaN        NaN        NaN        NaN   \n",
       "\n",
       "              2016       2017       2018  difference (2018 - 2010)  \n",
       "9803     68.539326  47.619048   9.090909               -124.242424  \n",
       "180       5.397987   7.907133   2.491103                 -7.164266  \n",
       "176.01    5.820781   5.562144   1.665945                 -5.585834  \n",
       "9809     26.153846  37.603306  12.867647                 -4.903437  \n",
       "125.01    4.945355   4.664232   1.224388                 -4.045183  \n",
       "...            ...        ...        ...                       ...  \n",
       "426.01    0.071856   0.050556   0.078452                  0.051585  \n",
       "615       1.700237   1.658973   0.535303                       NaN  \n",
       "615.00         NaN        NaN        NaN                       NaN  \n",
       "9804.01        NaN        NaN        NaN                       NaN  \n",
       "9901           NaN        NaN        NaN                       NaN  \n",
       "\n",
       "[198 rows x 10 columns]"
      ]
     },
     "execution_count": 730,
     "metadata": {},
     "output_type": "execute_result"
    }
   ],
   "source": [
    "crime_chart.sort_values(by='difference (2018 - 2010)')"
   ]
  },
  {
   "cell_type": "code",
   "execution_count": 649,
   "metadata": {},
   "outputs": [],
   "source": [
    "buyouts = pd.read_csv('buyouts.csv')\n",
    "elevation = pd.read_csv('elevation.csv')\n",
    "coffee = pd.read_csv('coffee_sf_filtered.csv')\n",
    "\n",
    "buyouts['name']=clean_name(buyouts.name)\n",
    "buyouts = buyouts.set_index('name')\n",
    "buyouts['year'] = pd.to_datetime(buyouts['Pre Buyout Disclosure Declaration Date']).dt.year\n",
    "buyouts = buyouts[buyouts['year'].notna()]\n",
    "grouped = buyouts.groupby(['name','year']).size().unstack().fillna(0)\n",
    "\n",
    "elevation = elevation.set_index(elevation['name.1'].apply(lambda x: x[:-1]))\n",
    "\n",
    "coffee['name']=clean_name(coffee.NAME)\n",
    "coffee = coffee.set_index('name')\n",
    "coffee = coffee.groupby(coffee.index).size()"
   ]
  },
  {
   "cell_type": "code",
   "execution_count": 650,
   "metadata": {},
   "outputs": [],
   "source": [
    "buyouts\n",
    "buyouts['date']= buyouts['Pre Buyout Disclosure Declaration Date'].apply(lambda x: x.replace('/','-'))\n",
    "long = buyouts['point'].apply(lambda x: x.replace('POINT (','').strip().replace(' ',',').replace(')','').split(',')[0])\n",
    "lat = buyouts['point'].apply(lambda x: x.replace('POINT (','').strip().replace(' ',',').replace(')','').split(',')[1])\n",
    "buyouts['long']=long\n",
    "buyouts['lat']=lat\n",
    "buyouts[['long','lat','date','Buyout Amount','Number of Tenants']].to_csv('sf_buyouts.csv')\n"
   ]
  },
  {
   "cell_type": "code",
   "execution_count": 651,
   "metadata": {},
   "outputs": [],
   "source": [
    "pca = pd.read_csv('pca_result')\n",
    "pca['name']=clean_name(pca.name)\n",
    "pca = pca.set_index('name')\n",
    "pca['y'] = None\n",
    "pca.loc[pca[(pca['2018']-pca['2010'])>0].index,'y']=1\n",
    "pca.loc[pca[(pca['2018']-pca['2010'])<0].index,'y']=0\n",
    "pca = pca.dropna()"
   ]
  },
  {
   "cell_type": "code",
   "execution_count": 652,
   "metadata": {},
   "outputs": [
    {
     "data": {
      "text/plain": [
       "name\n",
       "109        2017\n",
       "109        2018\n",
       "109        2017\n",
       "109        2017\n",
       "109        2016\n",
       "           ... \n",
       "604        2017\n",
       "9805.01    2018\n",
       "9805.01    2017\n",
       "332.03     2019\n",
       "9803       2018\n",
       "Name: Pre Buyout Disclosure Declaration Date, Length: 4138, dtype: int64"
      ]
     },
     "execution_count": 652,
     "metadata": {},
     "output_type": "execute_result"
    }
   ],
   "source": [
    "elevation['max elevation']\n",
    "pd.to_datetime(buyouts['Pre Buyout Disclosure Declaration Date']).dt.year"
   ]
  },
  {
   "cell_type": "code",
   "execution_count": 653,
   "metadata": {},
   "outputs": [],
   "source": [
    "data = pca.merge(elevation['max elevation'],left_index=True,right_index=True)[['y','max elevation']]\n",
    "data = data.merge(grouped,left_index=True,right_index=True)\n",
    "data = data.merge(coffee.rename('coffee'),left_index=True,right_index=True)\n",
    "\n",
    "X = data.iloc[:,1:]\n",
    "y = data.iloc[:,0]\n",
    "y=y.astype(int)"
   ]
  },
  {
   "cell_type": "code",
   "execution_count": 654,
   "metadata": {},
   "outputs": [
    {
     "data": {
      "text/plain": [
       "0.7777777777777778"
      ]
     },
     "execution_count": 654,
     "metadata": {},
     "output_type": "execute_result"
    },
    {
     "data": {
      "image/png": "[encoded data removed]",
      "text/plain": [
       "<Figure size 432x288 with 1 Axes>"
      ]
     },
     "metadata": {
      "needs_background": "light"
     },
     "output_type": "display_data"
    }
   ],
   "source": [
    "from sklearn import tree\n",
    "from sklearn.datasets import load_iris\n",
    "from sklearn.model_selection import train_test_split\n",
    "\n",
    "X_train, X_test, y_train, y_test = train_test_split(X, y, test_size=0.20,random_state=6)\n",
    "clf = tree.DecisionTreeClassifier(max_depth=2)\n",
    "clf = clf.fit(X_train,y_train)\n",
    "tree.plot_tree(clf) \n",
    "clf.score(X_test,y_test)"
   ]
  },
  {
   "cell_type": "code",
   "execution_count": 436,
   "metadata": {},
   "outputs": [
    {
     "data": {
      "text/plain": [
       "20"
      ]
     },
     "execution_count": 436,
     "metadata": {},
     "output_type": "execute_result"
    }
   ],
   "source": [
    "len(X[:20])"
   ]
  },
  {
   "cell_type": "code",
   "execution_count": 437,
   "metadata": {},
   "outputs": [],
   "source": [
    "diff = pca['2018']-pca['2010']\n",
    "data = data.merge(diff.rename('new'),left_index=True,right_index=True)"
   ]
  },
  {
   "cell_type": "code",
   "execution_count": 241,
   "metadata": {},
   "outputs": [
    {
     "data": {
      "text/plain": [
       "101     2.0\n",
       "102     7.0\n",
       "103    17.0\n",
       "104     9.0\n",
       "106     5.0\n",
       "       ... \n",
       "610     2.0\n",
       "611     1.0\n",
       "612     5.0\n",
       "614     4.0\n",
       "615     3.0\n",
       "Name: 2018, Length: 180, dtype: float64"
      ]
     },
     "execution_count": 241,
     "metadata": {},
     "output_type": "execute_result"
    }
   ],
   "source": [
    "X[2018]"
   ]
  },
  {
   "cell_type": "markdown",
   "metadata": {},
   "source": [
    "## PCA gentrificaiton map"
   ]
  },
  {
   "cell_type": "code",
   "execution_count": 568,
   "metadata": {},
   "outputs": [],
   "source": [
    "sf = pd.read_csv('sf median income per census tract.csv')\n",
    "sf['name'] = clean_name(sf.NAME)\n",
    "sf = sf.set_index('name')\n",
    "\n",
    "pca_map = pca.merge(sf['geometry'],left_index=True,right_index=True)\n",
    "pca_map['diff']=pca_map['2018']-pca_map['2010']\n",
    "pca_map.to_csv('pca_map.csv')"
   ]
  },
  {
   "cell_type": "code",
   "execution_count": 598,
   "metadata": {},
   "outputs": [],
   "source": [
    "def modify(x):\n",
    "    if x <0:\n",
    "        return 0\n",
    "    else: \n",
    "        return x/100000\n",
    "\n",
    "pca_map['modified_diff'] = pca_map['diff'].apply(modify)*2\n",
    "pca_map.to_csv('modified_pca_map.csv')"
   ]
  },
  {
   "cell_type": "code",
   "execution_count": 595,
   "metadata": {},
   "outputs": [
    {
     "data": {
      "text/plain": [
       "84.12993235701798"
      ]
     },
     "execution_count": 595,
     "metadata": {},
     "output_type": "execute_result"
    }
   ],
   "source": [
    "np.var(pca_map['modified_diff']*2)"
   ]
  },
  {
   "cell_type": "code",
   "execution_count": null,
   "metadata": {},
   "outputs": [],
   "source": []
  }
 ],
 "metadata": {
  "kernelspec": {
   "display_name": "Python 3",
   "language": "python",
   "name": "python3"
  },
  "language_info": {
   "codemirror_mode": {
    "name": "ipython",
    "version": 3
   },
   "file_extension": ".py",
   "mimetype": "text/x-python",
   "name": "python",
   "nbconvert_exporter": "python",
   "pygments_lexer": "ipython3",
   "version": "3.7.2"
  }
 },
 "nbformat": 4,
 "nbformat_minor": 4
}
