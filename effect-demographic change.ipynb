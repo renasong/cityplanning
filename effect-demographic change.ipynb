{
 "cells": [
  {
   "cell_type": "code",
   "execution_count": 155,
   "metadata": {},
   "outputs": [],
   "source": [
    "import glob\n",
    "import pandas as pd\n",
    "import numpy as np"
   ]
  },
  {
   "cell_type": "code",
   "execution_count": 138,
   "metadata": {},
   "outputs": [],
   "source": [
    "path = '/Users/annieouyang/Downloads/productDownload_2020-06-18T192918'\n",
    "all_files = glob.glob(path + \"/*.csv\")\n",
    "li = []\n",
    "\n",
    "for filename in all_files:\n",
    "    df = pd.read_csv(filename)\n",
    "    li.append(df)\n",
    "\n",
    "dfs = [pd.DataFrame(x) for x in li]"
   ]
  },
  {
   "cell_type": "code",
   "execution_count": 139,
   "metadata": {},
   "outputs": [],
   "source": [
    "for x in dfs:\n",
    "    x.columns = x.iloc[0]\n",
    "    x = x[1:]\n",
    "    x.set_index('Geographic Area Name')\n",
    "\n",
    "Y2010 = dfs[8].set_index('Geographic Area Name')[1:]\n",
    "Y2010.columns = [x.replace('!',' ') for x in Y2010.columns.values]\n",
    "Y2011 = dfs[5].set_index('Geographic Area Name')[1:]\n",
    "Y2011.columns = [x.replace('!',' ') for x in Y2011.columns.values]\n",
    "Y2012 = dfs[3].set_index('Geographic Area Name')[1:]\n",
    "Y2012.columns = [x.replace('!',' ') for x in Y2012.columns.values]\n",
    "Y2013 = dfs[2].set_index('Geographic Area Name')[1:]\n",
    "Y2013.columns = [x.replace('!',' ') for x in Y2013.columns.values]\n",
    "Y2014 = dfs[7].set_index('Geographic Area Name')[1:]\n",
    "Y2014.columns = [x.replace('!',' ') for x in Y2014.columns.values]\n",
    "Y2015 = dfs[6].set_index('Geographic Area Name')[1:]\n",
    "Y2015.columns = [x.replace('!',' ') for x in Y2015.columns.values]\n",
    "Y2016 = dfs[4].set_index('Geographic Area Name')[1:]\n",
    "Y2016.columns = [x.replace('!',' ') for x in Y2016.columns.values]\n",
    "Y2017 = dfs[1].set_index('Geographic Area Name')[1:]\n",
    "Y2017.columns = [x.replace('!',' ') for x in Y2017.columns.values]\n",
    "Y2018 = dfs[0].set_index('Geographic Area Name')[1:]\n",
    "Y2018.columns = [x.replace('!',' ') for x in Y2018.columns.values]"
   ]
  },
  {
   "cell_type": "code",
   "execution_count": 164,
   "metadata": {},
   "outputs": [],
   "source": [
    "np.save('census tract numbers',Y2018.index.str.extract('(\\d+)').iloc[:,0])"
   ]
  },
  {
   "cell_type": "code",
   "execution_count": null,
   "metadata": {},
   "outputs": [],
   "source": []
  }
 ],
 "metadata": {
  "kernelspec": {
   "display_name": "Python 3",
   "language": "python",
   "name": "python3"
  },
  "language_info": {
   "codemirror_mode": {
    "name": "ipython",
    "version": 3
   },
   "file_extension": ".py",
   "mimetype": "text/x-python",
   "name": "python",
   "nbconvert_exporter": "python",
   "pygments_lexer": "ipython3",
   "version": "3.7.2"
  }
 },
 "nbformat": 4,
 "nbformat_minor": 4
}
