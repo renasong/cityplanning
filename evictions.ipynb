{
 "cells": [
  {
   "cell_type": "code",
   "execution_count": 2,
   "metadata": {},
   "outputs": [],
   "source": [
    "import pandas as pd"
   ]
  },
  {
   "cell_type": "code",
   "execution_count": 3,
   "metadata": {},
   "outputs": [
    {
     "name": "stderr",
     "output_type": "stream",
     "text": [
      "/Users/renasong/anaconda3/lib/python3.7/site-packages/IPython/core/interactiveshell.py:3057: DtypeWarning: Columns (4) have mixed types. Specify dtype option on import or set low_memory=False.\n",
      "  interactivity=interactivity, compiler=compiler, result=result)\n"
     ]
    }
   ],
   "source": [
    "evictions=pd.read_csv('/Users/renasong/Documents/2020su/proj/Eviction_Notices.csv')"
   ]
  },
  {
   "cell_type": "code",
   "execution_count": 10,
   "metadata": {},
   "outputs": [],
   "source": [
    "evictions=evictions[['Address','Eviction Notice Source Zipcode','File Date','Neighborhoods - Analysis Boundaries','Location','Non Payment',\n",
    "                    'Breach','Nuisance','Illegal Use','Failure to Sign Renewal','Access Denial','Unapproved Subtenant',\n",
    "                     'Owner Move In','Demolition','Capital Improvement','Substantial Rehab','Ellis Act WithDrawal',\n",
    "                     'Condo Conversion','Roommate Same Unit','Other Cause','Late Payments','Lead Remediation','Development',\n",
    "                     'Good Samaritan Ends']]\n",
    "\n",
    "evictions=evictions.rename(columns={'Neighborhoods - Analysis Boundaries':'Neighborhood','Eviction Notice Source Zipcode':'Zipcode'})\n"
   ]
  }
 ],
 "metadata": {
  "kernelspec": {
   "display_name": "Python 3",
   "language": "python",
   "name": "python3"
  },
  "language_info": {
   "codemirror_mode": {
    "name": "ipython",
    "version": 3
   },
   "file_extension": ".py",
   "mimetype": "text/x-python",
   "name": "python",
   "nbconvert_exporter": "python",
   "pygments_lexer": "ipython3",
   "version": "3.7.2"
  }
 },
 "nbformat": 4,
 "nbformat_minor": 2
}
