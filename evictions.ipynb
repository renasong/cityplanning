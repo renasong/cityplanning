{
 "cells": [
  {
   "cell_type": "code",
   "execution_count": 217,
   "metadata": {},
   "outputs": [],
   "source": [
    "import pandas as pd\n",
    "import censusgeocode as cg\n",
    "import re\n",
    "import time\n",
    "import geopandas \n",
    "import shapely.wkt\n",
    "from shapely.geometry import Point, Polygon\n",
    "import time\n",
    "import datetime"
   ]
  },
  {
   "cell_type": "code",
   "execution_count": 158,
   "metadata": {},
   "outputs": [],
   "source": [
    "evictions=pd.read_csv('/Users/renasong/Documents/2020su/proj/Eviction_Notices.csv')"
   ]
  },
  {
   "cell_type": "code",
   "execution_count": 159,
   "metadata": {},
   "outputs": [],
   "source": [
    "evictions=evictions[['Address','Eviction Notice Source Zipcode','File Date','Neighborhoods - Analysis Boundaries','Location','Non Payment',\n",
    "                    'Breach','Nuisance','Illegal Use','Failure to Sign Renewal','Access Denial','Unapproved Subtenant',\n",
    "                     'Owner Move In','Demolition','Capital Improvement','Substantial Rehab','Ellis Act WithDrawal',\n",
    "                     'Condo Conversion','Roommate Same Unit','Other Cause','Late Payments','Lead Remediation','Development',\n",
    "                     'Good Samaritan Ends']]\n",
    "\n",
    "evictions=evictions.rename(columns={'Neighborhoods - Analysis Boundaries':'Neighborhood','Eviction Notice Source Zipcode':'Zipcode'})\n"
   ]
  },
  {
   "cell_type": "code",
   "execution_count": 160,
   "metadata": {
    "scrolled": true
   },
   "outputs": [],
   "source": [
    "evictions=evictions.fillna('')"
   ]
  },
  {
   "cell_type": "code",
   "execution_count": 161,
   "metadata": {},
   "outputs": [],
   "source": [
    "locations=evictions['Location'].to_numpy()"
   ]
  },
  {
   "cell_type": "code",
   "execution_count": 162,
   "metadata": {},
   "outputs": [],
   "source": [
    "cd=[re.findall(\"(\\-\\\\d+\\.\\\\d+|\\\\d+\\.\\\\d+)\",loc) for loc in locations]"
   ]
  },
  {
   "cell_type": "code",
   "execution_count": 163,
   "metadata": {},
   "outputs": [],
   "source": [
    "points=[]\n",
    "for c in cd:\n",
    "    if len(c)==2:\n",
    "        points.append(Point(float(c[0]),float(c[1])))\n",
    "    else:\n",
    "        points.append('')"
   ]
  },
  {
   "cell_type": "code",
   "execution_count": 164,
   "metadata": {},
   "outputs": [],
   "source": [
    "sf=pd.read_csv('sf polygons.csv')"
   ]
  },
  {
   "cell_type": "code",
   "execution_count": 165,
   "metadata": {},
   "outputs": [],
   "source": [
    "polys = [shapely.wkt.loads(st) for st in sf['geometry']]"
   ]
  },
  {
   "cell_type": "code",
   "execution_count": 169,
   "metadata": {},
   "outputs": [],
   "source": [
    "res=[]\n",
    "for point in points:\n",
    "    if type(point)!=shapely.geometry.point.Point:\n",
    "        res.append(0)\n",
    "    else:\n",
    "        count=0\n",
    "        for poly in polys:\n",
    "            if poly.contains(point):\n",
    "                res.append(poly)\n",
    "                count+=1\n",
    "        if count<1:\n",
    "            res.append(0)\n",
    "                "
   ]
  },
  {
   "cell_type": "code",
   "execution_count": 170,
   "metadata": {},
   "outputs": [],
   "source": [
    "pointsdf = pd.DataFrame(points)\n",
    "pointsdf['polygons'] = res\n",
    "\n",
    "pointsdf['poly']=[str(pt) for pt in pointsdf['polygons']]\n",
    "sf['poly']=[str(pt) for pt in sf['geometry']]\n",
    "df=pd.merge(pointsdf,sf,left_on='poly',right_on='poly')"
   ]
  },
  {
   "cell_type": "code",
   "execution_count": 171,
   "metadata": {
    "scrolled": true
   },
   "outputs": [],
   "source": [
    "df['point']=df[0]\n",
    "df=df[['point','geometry','TRACTCE']]"
   ]
  },
  {
   "cell_type": "code",
   "execution_count": 172,
   "metadata": {
    "scrolled": true
   },
   "outputs": [
    {
     "data": {
      "text/plain": [
       "Index(['point', 'geometry', 'TRACTCE'], dtype='object')"
      ]
     },
     "execution_count": 172,
     "metadata": {},
     "output_type": "execute_result"
    }
   ],
   "source": [
    "df.columns"
   ]
  },
  {
   "cell_type": "code",
   "execution_count": 173,
   "metadata": {
    "scrolled": true
   },
   "outputs": [
    {
     "data": {
      "text/plain": [
       "Index(['Address', 'Zipcode', 'File Date', 'Neighborhood', 'Location',\n",
       "       'Non Payment', 'Breach', 'Nuisance', 'Illegal Use',\n",
       "       'Failure to Sign Renewal', 'Access Denial', 'Unapproved Subtenant',\n",
       "       'Owner Move In', 'Demolition', 'Capital Improvement',\n",
       "       'Substantial Rehab', 'Ellis Act WithDrawal', 'Condo Conversion',\n",
       "       'Roommate Same Unit', 'Other Cause', 'Late Payments',\n",
       "       'Lead Remediation', 'Development', 'Good Samaritan Ends'],\n",
       "      dtype='object')"
      ]
     },
     "execution_count": 173,
     "metadata": {},
     "output_type": "execute_result"
    }
   ],
   "source": [
    "evictions.columns"
   ]
  },
  {
   "cell_type": "code",
   "execution_count": 174,
   "metadata": {},
   "outputs": [],
   "source": [
    "df['pt_h']=[str(pt) for pt in df['point']]\n"
   ]
  },
  {
   "cell_type": "code",
   "execution_count": 225,
   "metadata": {},
   "outputs": [],
   "source": [
    "\n",
    "df1=df[['point','pt_h','TRACTCE']].merge(evictions[['Location','File Date','Non Payment', 'Breach', 'Nuisance', \n",
    "        'Illegal Use','Failure to Sign Renewal', 'Access Denial', 'Unapproved Subtenant',\n",
    "       'Owner Move In', 'Demolition', 'Capital Improvement',\n",
    "       'Substantial Rehab', 'Ellis Act WithDrawal', 'Condo Conversion',\n",
    "       'Roommate Same Unit', 'Other Cause', 'Late Payments',\n",
    "       'Lead Remediation', 'Development', 'Good Samaritan Ends']],left_on='pt_h',right_on='Location')\n",
    "coords = df1.point.apply(lambda x: x.coords.xy)\n",
    "\n"
   ]
  },
  {
   "cell_type": "code",
   "execution_count": 226,
   "metadata": {},
   "outputs": [],
   "source": [
    "df1['long']=[c[0][0] for c in coords]\n",
    "df1['lat']=[c[1][0] for c in coords]\n",
    "df1=df1.drop(['point','pt_h','Location'],axis=1)\n"
   ]
  },
  {
   "cell_type": "code",
   "execution_count": 227,
   "metadata": {},
   "outputs": [],
   "source": [
    "df1=df1*1 \n"
   ]
  },
  {
   "cell_type": "code",
   "execution_count": 228,
   "metadata": {},
   "outputs": [],
   "source": [
    "split=[date.rsplit('/') for date in df1['File Date']]\n",
    "df1['month']=[date[0] for date in split]\n",
    "df1['day']=[date[1] for date in split]\n",
    "df1['year']=[int(date[2]) for date in split]\n",
    "#create month, day, year cols"
   ]
  },
  {
   "cell_type": "code",
   "execution_count": 229,
   "metadata": {},
   "outputs": [],
   "source": [
    "df1=df1.loc[df1['year']>2009]\n",
    "#keep years 2010 and above"
   ]
  },
  {
   "cell_type": "code",
   "execution_count": 230,
   "metadata": {},
   "outputs": [
    {
     "data": {
      "text/plain": [
       "Index(['TRACTCE', 'File Date', 'Non Payment', 'Breach', 'Nuisance',\n",
       "       'Illegal Use', 'Failure to Sign Renewal', 'Access Denial',\n",
       "       'Unapproved Subtenant', 'Owner Move In', 'Demolition',\n",
       "       'Capital Improvement', 'Substantial Rehab', 'Ellis Act WithDrawal',\n",
       "       'Condo Conversion', 'Roommate Same Unit', 'Other Cause',\n",
       "       'Late Payments', 'Lead Remediation', 'Development',\n",
       "       'Good Samaritan Ends', 'long', 'lat', 'month', 'day', 'year'],\n",
       "      dtype='object')"
      ]
     },
     "execution_count": 230,
     "metadata": {},
     "output_type": "execute_result"
    }
   ],
   "source": [
    "df1.columns"
   ]
  },
  {
   "cell_type": "code",
   "execution_count": 231,
   "metadata": {},
   "outputs": [],
   "source": [
    "df1['Non Payment']=[int(x) for x in df1['Non Payment']]\n",
    "\n",
    "df2=df1[['Non Payment', 'Breach', 'Nuisance',\n",
    "       'Illegal Use', 'Failure to Sign Renewal', 'Access Denial',\n",
    "       'Unapproved Subtenant', 'Owner Move In', 'Demolition',\n",
    "       'Capital Improvement', 'Substantial Rehab', 'Ellis Act WithDrawal',\n",
    "       'Condo Conversion', 'Roommate Same Unit', 'Other Cause',\n",
    "       'Late Payments', 'Lead Remediation', 'Development',\n",
    "       'Good Samaritan Ends']]\n",
    "def get_reason(row):\n",
    "     for c in df2.columns:\n",
    "            if row[c]==1:\n",
    "                return c"
   ]
  },
  {
   "cell_type": "code",
   "execution_count": 232,
   "metadata": {},
   "outputs": [],
   "source": [
    "df1['reason']=df2.apply(get_reason, axis=1)\n",
    "df1=df1[['TRACTCE','File Date','long','lat','month','day','year','reason']]"
   ]
  },
  {
   "cell_type": "code",
   "execution_count": 233,
   "metadata": {},
   "outputs": [],
   "source": [
    "df1['date']=[datetime.datetime.fromtimestamp(time.mktime(datetime.datetime.strptime(s, \"%m/%d/%Y\").timetuple())) for s in df1['File Date']]\n",
    "df1=df1.drop(['File Date'],axis=1)"
   ]
  },
  {
   "cell_type": "code",
   "execution_count": 234,
   "metadata": {},
   "outputs": [
    {
     "data": {
      "text/html": [
       "<div>\n",
       "<style scoped>\n",
       "    .dataframe tbody tr th:only-of-type {\n",
       "        vertical-align: middle;\n",
       "    }\n",
       "\n",
       "    .dataframe tbody tr th {\n",
       "        vertical-align: top;\n",
       "    }\n",
       "\n",
       "    .dataframe thead th {\n",
       "        text-align: right;\n",
       "    }\n",
       "</style>\n",
       "<table border=\"1\" class=\"dataframe\">\n",
       "  <thead>\n",
       "    <tr style=\"text-align: right;\">\n",
       "      <th></th>\n",
       "      <th>TRACTCE</th>\n",
       "      <th>long</th>\n",
       "      <th>lat</th>\n",
       "      <th>month</th>\n",
       "      <th>day</th>\n",
       "      <th>year</th>\n",
       "      <th>reason</th>\n",
       "      <th>date</th>\n",
       "    </tr>\n",
       "  </thead>\n",
       "  <tbody>\n",
       "    <tr>\n",
       "      <th>0</th>\n",
       "      <td>22902</td>\n",
       "      <td>-122.411016</td>\n",
       "      <td>37.748408</td>\n",
       "      <td>09</td>\n",
       "      <td>01</td>\n",
       "      <td>2016</td>\n",
       "      <td>Breach</td>\n",
       "      <td>2016-09-01</td>\n",
       "    </tr>\n",
       "    <tr>\n",
       "      <th>1</th>\n",
       "      <td>22902</td>\n",
       "      <td>-122.411016</td>\n",
       "      <td>37.748408</td>\n",
       "      <td>03</td>\n",
       "      <td>11</td>\n",
       "      <td>2019</td>\n",
       "      <td>Nuisance</td>\n",
       "      <td>2019-03-11</td>\n",
       "    </tr>\n",
       "    <tr>\n",
       "      <th>2</th>\n",
       "      <td>22902</td>\n",
       "      <td>-122.411016</td>\n",
       "      <td>37.748408</td>\n",
       "      <td>09</td>\n",
       "      <td>01</td>\n",
       "      <td>2016</td>\n",
       "      <td>Breach</td>\n",
       "      <td>2016-09-01</td>\n",
       "    </tr>\n",
       "    <tr>\n",
       "      <th>3</th>\n",
       "      <td>22902</td>\n",
       "      <td>-122.411016</td>\n",
       "      <td>37.748408</td>\n",
       "      <td>03</td>\n",
       "      <td>11</td>\n",
       "      <td>2019</td>\n",
       "      <td>Nuisance</td>\n",
       "      <td>2019-03-11</td>\n",
       "    </tr>\n",
       "    <tr>\n",
       "      <th>4</th>\n",
       "      <td>22902</td>\n",
       "      <td>-122.410099</td>\n",
       "      <td>37.748427</td>\n",
       "      <td>09</td>\n",
       "      <td>27</td>\n",
       "      <td>2012</td>\n",
       "      <td>Ellis Act WithDrawal</td>\n",
       "      <td>2012-09-27</td>\n",
       "    </tr>\n",
       "  </tbody>\n",
       "</table>\n",
       "</div>"
      ],
      "text/plain": [
       "   TRACTCE        long        lat month day  year                reason  \\\n",
       "0    22902 -122.411016  37.748408    09  01  2016                Breach   \n",
       "1    22902 -122.411016  37.748408    03  11  2019              Nuisance   \n",
       "2    22902 -122.411016  37.748408    09  01  2016                Breach   \n",
       "3    22902 -122.411016  37.748408    03  11  2019              Nuisance   \n",
       "4    22902 -122.410099  37.748427    09  27  2012  Ellis Act WithDrawal   \n",
       "\n",
       "        date  \n",
       "0 2016-09-01  \n",
       "1 2019-03-11  \n",
       "2 2016-09-01  \n",
       "3 2019-03-11  \n",
       "4 2012-09-27  "
      ]
     },
     "execution_count": 234,
     "metadata": {},
     "output_type": "execute_result"
    }
   ],
   "source": [
    "df1.head()"
   ]
  },
  {
   "cell_type": "code",
   "execution_count": 235,
   "metadata": {},
   "outputs": [],
   "source": [
    "df1.to_csv('Evictions.csv')"
   ]
  },
  {
   "cell_type": "code",
   "execution_count": null,
   "metadata": {},
   "outputs": [],
   "source": []
  },
  {
   "cell_type": "code",
   "execution_count": null,
   "metadata": {},
   "outputs": [],
   "source": []
  }
 ],
 "metadata": {
  "kernelspec": {
   "display_name": "Python 3",
   "language": "python",
   "name": "python3"
  },
  "language_info": {
   "codemirror_mode": {
    "name": "ipython",
    "version": 3
   },
   "file_extension": ".py",
   "mimetype": "text/x-python",
   "name": "python",
   "nbconvert_exporter": "python",
   "pygments_lexer": "ipython3",
   "version": "3.7.2"
  }
 },
 "nbformat": 4,
 "nbformat_minor": 2
}
