{
 "cells": [
  {
   "cell_type": "code",
   "execution_count": 252,
   "metadata": {},
   "outputs": [],
   "source": [
    "import pandas as pd\n",
    "import numpy as np\n",
    "\n",
    "from geopandas import GeoDataFrame\n",
    "from shapely import wkt\n",
    "from shapely.geometry import LineString, Polygon, Point\n",
    "\n",
    "import matplotlib.pyplot as plt"
   ]
  },
  {
   "cell_type": "code",
   "execution_count": 253,
   "metadata": {},
   "outputs": [
    {
     "data": {
      "text/plain": [
       "0        MULTILINESTRING ((-122.36531 37.72558, -122.36...\n",
       "1        MULTILINESTRING ((-122.40341 37.70055, -122.40...\n",
       "2        MULTILINESTRING ((-122.39484 37.70412, -122.39...\n",
       "3        MULTILINESTRING ((-122.40476 37.74909, -122.40...\n",
       "4        MULTILINESTRING ((-122.51467 37.77962, -122.51...\n",
       "                               ...                        \n",
       "14146    MULTILINESTRING ((-122.44805 37.75223, -122.44...\n",
       "14147    MULTILINESTRING ((-122.44735 37.75248, -122.44...\n",
       "14148    MULTILINESTRING ((-122.44793 37.75227, -122.44...\n",
       "14149    MULTILINESTRING ((-122.46360 37.75368, -122.46...\n",
       "14150    MULTILINESTRING ((-122.46301 37.75284, -122.46...\n",
       "Name: geometry, Length: 14151, dtype: geometry"
      ]
     },
     "execution_count": 253,
     "metadata": {},
     "output_type": "execute_result"
    }
   ],
   "source": [
    "elevation = geopandas.read_file('sf_contours.gpkg')\n",
    "elevation.geometry"
   ]
  },
  {
   "cell_type": "code",
   "execution_count": 263,
   "metadata": {},
   "outputs": [],
   "source": [
    "sf_census = pd.read_csv('sf polygons.csv')\n",
    "sf_census = sf_census.set_index(sf_census['NAME'].astype(str))\n",
    "sf_census['geometry'] = sf_census['geometry'].apply(wkt.loads)"
   ]
  },
  {
   "cell_type": "code",
   "execution_count": 255,
   "metadata": {},
   "outputs": [
    {
     "data": {
      "image/svg+xml": [
       "<svg xmlns=\"http://www.w3.org/2000/svg\" xmlns:xlink=\"http://www.w3.org/1999/xlink\" width=\"100.0\" height=\"100.0\" viewBox=\"-122.51493139862419 37.779475011492366 0.0002818931122590129 0.0003791781342243894\" preserveAspectRatio=\"xMinYMin meet\"><g transform=\"matrix(1,0,0,-1,0,75.55932920111896)\"><g><polyline fill=\"none\" stroke=\"#66cc99\" stroke-width=\"7.583562684487788e-06\" points=\"-122.51467009194958,37.779623445143514 -122.51466880223039,37.779633385467996 -122.51466715547507,37.7796440126156 -122.51466553354996,37.779654509945445 -122.5146642304059,37.77966395542891 -122.51466354914653,37.779671764428834 -122.51466358623017,37.77967835723189 -122.51466437291128,37.779684363393464 -122.51466591903747,37.77969040720894 -122.5146682112189,37.7796970402355 -122.51467087450447,37.77970455017061 -122.51467345897652,37.779713074096456 -122.51467555997161,37.779722849586065 -122.51467685974194,37.779733921450145 -122.51467795347747,37.77974602073068 -122.51467944192781,37.77975882211647 -122.51468197375851,37.779771937593836 -122.51468610522824,37.779784969476445 -122.51469162643788,37.77979723500372 -122.51469818365638,37.77980797511185 -122.51470547396609,37.77981647487501 -122.51471313693997,37.77982225100807 -122.51472102732234,37.779825958586045 -122.51472912746898,37.77982851491564 -122.5147372561755,37.77983081759566 -122.51474542527308,37.779833564023 -122.51475377438967,37.77983641426346 -122.51476249357698,37.77983879686333 -122.514771773039,37.77984014599199 -122.51478169884318,37.77983997635971 -122.51479196039296,37.77983807386827 -122.51480217190488,37.77983432696888 -122.51481188413733,37.77982863644908 -122.51482067215441,37.779821015197115 -122.51482815134416,37.77981217863707 -122.51483392689214,37.77980298863828 -122.51483753374669,37.77979433077372 -122.514838884096,37.77978688726608 -122.51483875125116,37.77978068427973 -122.51483823494837,37.779775500490764 -122.51483832416005,37.779771212106915 -122.51483988146742,37.77976747808983 -122.51484271669791,37.77976355908404 -122.51484645645684,37.779758493833505 -122.5148506598577,37.77975144600332 -122.51485497096422,37.7797418365934 -122.51485934265976,37.77973080282052 -122.5148636819812,37.779719882116694 -122.51486803598347,37.77971054763724 -122.51487234665215,37.779703796140204 -122.51487691874938,37.77969858164399 -122.51488203500142,37.779693307215275 -122.51488793532019,37.77968636540074 -122.51489473256697,37.77967669099526 -122.51490182845225,37.77966522248098 -122.51490832744993,37.77965343787136 -122.51491344076449,37.77964283023326 -122.51491650231213,37.77963445172408 -122.51491735498958,37.779627736823336 -122.51491608576085,37.77962171078145 -122.51491269657257,37.77961540030164 -122.51490733915264,37.77960812769469 -122.51490065625183,37.77960033203889 -122.51489335355357,37.77959268199494 -122.51488611084268,37.77958593667904 -122.51487942193558,37.7795805320896 -122.51487282691342,37.77957597539095 -122.5148656792797,37.77957142813655 -122.51485726458931,37.77956615993119 -122.51484712231435,37.77955965544593 -122.51483564381444,37.77955249307495 -122.51482351223004,37.7795455556448 -122.51481138220922,37.779539720843424 -122.51479970704196,37.77953549849757 -122.51478836664117,37.77953211992508 -122.51477701952918,37.77952849393102 -122.51476532422912,37.77952352932035 -122.51475323302896,37.77951651243176 -122.51474148681427,37.779508364486304 -122.51473102028409,37.77950035781849 -122.51472281217046,37.77949382026851 -122.51471744574576,37.77948987265464 -122.51471392915889,37.779489055126966 -122.51471088820212,37.77949166120859 -122.51470697944738,37.77949807390925 -122.51470116219573,37.77950833914286 -122.51469417726126,37.7795212853343 -122.51468708495123,37.77953549916512 -122.51468092264193,37.77954950582519 -122.51467655867634,37.77956213156071 -122.51467385646181,37.7795733055707 -122.51467232357348,37.77958316566394 -122.51467158833236,37.77959185883707 -122.51467131799149,37.77959966081494 -122.5146711366171,37.77960708434384 -122.51467082871663,37.77961480820235 -122.51467009194958,37.779623445143514\" opacity=\"0.8\" /></g></g></svg>"
      ],
      "text/plain": [
       "<shapely.geometry.multilinestring.MultiLineString at 0x1051686d8>"
      ]
     },
     "execution_count": 255,
     "metadata": {},
     "output_type": "execute_result"
    }
   ],
   "source": [
    "elevation.geometry[4]"
   ]
  },
  {
   "cell_type": "code",
   "execution_count": 256,
   "metadata": {},
   "outputs": [
    {
     "data": {
      "text/plain": [
       "[<shapely.coords.CoordinateSequence at 0x26d2a2a90>]"
      ]
     },
     "execution_count": 256,
     "metadata": {},
     "output_type": "execute_result"
    }
   ],
   "source": [
    "#\n",
    "list(elevation.geometry.apply(lambda line:[x.coords for x in line])[0])"
   ]
  },
  {
   "cell_type": "code",
   "execution_count": 257,
   "metadata": {},
   "outputs": [],
   "source": [
    "elevation['points'] = elevation.geometry.apply(lambda y : [Point(x) for x in (y[0].coords)])"
   ]
  },
  {
   "cell_type": "code",
   "execution_count": 258,
   "metadata": {},
   "outputs": [
    {
     "data": {
      "text/plain": [
       "0"
      ]
     },
     "execution_count": 258,
     "metadata": {},
     "output_type": "execute_result"
    }
   ],
   "source": [
    "sum([(sf_census['geometry'][0]).contains(elevation['points'][0][i]) for i in range(len(elevation['points'][0]))])"
   ]
  },
  {
   "cell_type": "code",
   "execution_count": 259,
   "metadata": {},
   "outputs": [],
   "source": [
    "def check_contains(poly,points):\n",
    "    sums = sum([poly.contains(points[i])for i in range(len(points))])\n",
    "    return bool(sums)"
   ]
  },
  {
   "cell_type": "code",
   "execution_count": 276,
   "metadata": {},
   "outputs": [],
   "source": [
    "def get_avg_elevation(sf_idx):\n",
    "    res_0 = []\n",
    "    for i in range(len(elevation)):\n",
    "        if check_contains(sf_census['geometry'][sf_idx],elevation['points'][sf_idx][i]):\n",
    "            res_0+=[i]\n",
    "        \n",
    "    eles = elevation.iloc[res_0]['elevation']\n",
    "    return np.mean(lmao)"
   ]
  },
  {
   "cell_type": "code",
   "execution_count": 278,
   "metadata": {},
   "outputs": [
    {
     "data": {
      "text/plain": [
       "False"
      ]
     },
     "execution_count": 278,
     "metadata": {},
     "output_type": "execute_result"
    }
   ],
   "source": [
    "# get the average elevation\n",
    "sf_census = sf_census.set_index(sf_census['name'].apply(lambda x: x.replace('a','')))\n",
    "check_contains(sf_census.geometry[5],elevation['points'][0])"
   ]
  },
  {
   "cell_type": "code",
   "execution_count": 282,
   "metadata": {},
   "outputs": [
    {
     "data": {
      "text/plain": [
       "0        [POINT (-122.365312222365 37.72557844357855), ...\n",
       "1        [POINT (-122.403408668263 37.70054879885006), ...\n",
       "2        [POINT (-122.3948404745151 37.70411863272767),...\n",
       "3        [POINT (-122.4047646951539 37.74908696884473),...\n",
       "4        [POINT (-122.5146700919496 37.77962344514351),...\n",
       "                               ...                        \n",
       "14146    [POINT (-122.4480489469723 37.75222717761899),...\n",
       "14147    [POINT (-122.4473464903071 37.75247500077768),...\n",
       "14148    [POINT (-122.4479342591019 37.75226808225273),...\n",
       "14149    [POINT (-122.4636038698986 37.75367518998301),...\n",
       "14150    [POINT (-122.4630065243303 37.75284272886329),...\n",
       "Name: points, Length: 14151, dtype: object"
      ]
     },
     "execution_count": 282,
     "metadata": {},
     "output_type": "execute_result"
    }
   ],
   "source": [
    "elevation.points"
   ]
  },
  {
   "cell_type": "code",
   "execution_count": 306,
   "metadata": {},
   "outputs": [],
   "source": [
    "def get_max_elev(geometry):\n",
    "    res_0 = []\n",
    "    for i in range(len(elevation)):\n",
    "        if check_contains(geometry,elevation['points'][i]):\n",
    "            res_0+=[i]\n",
    "    maximum = np.max(elevation.iloc[res_0]['elevation'])\n",
    "    return maximum"
   ]
  },
  {
   "cell_type": "code",
   "execution_count": 310,
   "metadata": {},
   "outputs": [],
   "source": [
    "max_elev = sf_census['geometry'].apply(get_max_elev)"
   ]
  },
  {
   "cell_type": "code",
   "execution_count": 318,
   "metadata": {},
   "outputs": [],
   "source": [
    "sf_census['max elevation']=max_elev\n",
    "sf_census.to_csv('elevation.csv')"
   ]
  },
  {
   "cell_type": "code",
   "execution_count": 321,
   "metadata": {},
   "outputs": [
    {
     "name": "stderr",
     "output_type": "stream",
     "text": [
      "/Library/Frameworks/Python.framework/Versions/3.7/lib/python3.7/site-packages/numpy/lib/histograms.py:839: RuntimeWarning: invalid value encountered in greater_equal\n",
      "  keep = (tmp_a >= first_edge)\n",
      "/Library/Frameworks/Python.framework/Versions/3.7/lib/python3.7/site-packages/numpy/lib/histograms.py:840: RuntimeWarning: invalid value encountered in less_equal\n",
      "  keep &= (tmp_a <= last_edge)\n"
     ]
    },
    {
     "data": {
      "text/plain": [
       "(array([31., 33., 48., 40., 17., 11.,  4.,  4.,  3.,  4.]),\n",
       " array([ 20. , 109.5, 199. , 288.5, 378. , 467.5, 557. , 646.5, 736. ,\n",
       "        825.5, 915. ]),\n",
       " <a list of 10 Patch objects>)"
      ]
     },
     "execution_count": 321,
     "metadata": {},
     "output_type": "execute_result"
    },
    {
     "data": {
      "image/png": "[encoded data removed]",
      "text/plain": [
       "<Figure size 432x288 with 1 Axes>"
      ]
     },
     "metadata": {
      "needs_background": "light"
     },
     "output_type": "display_data"
    }
   ],
   "source": [
    "plt.hist(sf_census['max elevation'])"
   ]
  },
  {
   "cell_type": "code",
   "execution_count": null,
   "metadata": {},
   "outputs": [],
   "source": []
  }
 ],
 "metadata": {
  "kernelspec": {
   "display_name": "Python 3",
   "language": "python",
   "name": "python3"
  }
 },
 "nbformat": 4,
 "nbformat_minor": 4
}
