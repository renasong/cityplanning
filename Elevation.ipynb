{
 "cells": [
  {
   "cell_type": "code",
   "execution_count": 9,
   "metadata": {},
   "outputs": [],
   "source": [
    "import pandas as pd\n",
    "import geopandas"
   ]
  },
  {
   "cell_type": "code",
   "execution_count": 12,
   "metadata": {},
   "outputs": [
    {
     "data": {
      "text/plain": [
       "0        MULTILINESTRING ((-122.36531 37.72558, -122.36...\n",
       "1        MULTILINESTRING ((-122.40341 37.70055, -122.40...\n",
       "2        MULTILINESTRING ((-122.39484 37.70412, -122.39...\n",
       "3        MULTILINESTRING ((-122.40476 37.74909, -122.40...\n",
       "4        MULTILINESTRING ((-122.51467 37.77962, -122.51...\n",
       "                               ...                        \n",
       "14146    MULTILINESTRING ((-122.44805 37.75223, -122.44...\n",
       "14147    MULTILINESTRING ((-122.44735 37.75248, -122.44...\n",
       "14148    MULTILINESTRING ((-122.44793 37.75227, -122.44...\n",
       "14149    MULTILINESTRING ((-122.46360 37.75368, -122.46...\n",
       "14150    MULTILINESTRING ((-122.46301 37.75284, -122.46...\n",
       "Name: geometry, Length: 14151, dtype: geometry"
      ]
     },
     "execution_count": 12,
     "metadata": {},
     "output_type": "execute_result"
    }
   ],
   "source": [
    "elevation = geopandas.read_file('sf_contours.gpkg')\n",
    "elevation.geometry"
   ]
  },
  {
   "cell_type": "code",
   "execution_count": 22,
   "metadata": {},
   "outputs": [
    {
     "ename": "AttributeError",
     "evalue": "'MultiLineString' object has no attribute 'intersect'",
     "output_type": "error",
     "traceback": [
      "\u001b[0;31m---------------------------------------------------------------------------\u001b[0m",
      "\u001b[0;31mAttributeError\u001b[0m                            Traceback (most recent call last)",
      "\u001b[0;32m<ipython-input-22-e8cb7217123c>\u001b[0m in \u001b[0;36m<module>\u001b[0;34m\u001b[0m\n\u001b[0;32m----> 1\u001b[0;31m \u001b[0melevation\u001b[0m\u001b[0;34m.\u001b[0m\u001b[0mgeometry\u001b[0m\u001b[0;34m[\u001b[0m\u001b[0;36m3\u001b[0m\u001b[0;34m]\u001b[0m\u001b[0;34m.\u001b[0m\u001b[0mintersect\u001b[0m\u001b[0;34m(\u001b[0m\u001b[0msf_census\u001b[0m\u001b[0;34m[\u001b[0m\u001b[0;34m'geometry'\u001b[0m\u001b[0;34m]\u001b[0m\u001b[0;34m[\u001b[0m\u001b[0;36m0\u001b[0m\u001b[0;34m]\u001b[0m\u001b[0;34m)\u001b[0m\u001b[0;34m\u001b[0m\u001b[0;34m\u001b[0m\u001b[0m\n\u001b[0m",
      "\u001b[0;31mAttributeError\u001b[0m: 'MultiLineString' object has no attribute 'intersect'"
     ]
    }
   ],
   "source": [
    "elevation.geometry[3].intersect(sf_census['geometry'][0])"
   ]
  },
  {
   "cell_type": "code",
   "execution_count": null,
   "metadata": {},
   "outputs": [],
   "source": []
  },
  {
   "cell_type": "code",
   "execution_count": 21,
   "metadata": {},
   "outputs": [
    {
     "data": {
      "text/plain": [
       "0      POLYGON ((-122.426671 37.809639, -122.424876 3...\n",
       "1      POLYGON ((-122.416292 37.793892, -122.415218 3...\n",
       "2      POLYGON ((-122.417707 37.784236, -122.416072 3...\n",
       "3      POLYGON ((-122.459476 37.789711, -122.45274 37...\n",
       "4      POLYGON ((-122.459179 37.785682, -122.45505 37...\n",
       "                             ...                        \n",
       "191    POLYGON ((-122.512070759187 37.7636593024008, ...\n",
       "192    POLYGON ((-122.506796 37.73555899999999, -122....\n",
       "193    POLYGON ((-122.510781 37.782059, -122.507484 3...\n",
       "194    POLYGON ((-122.410662 37.742424, -122.409378 3...\n",
       "195    POLYGON ((-122.412047 37.75423, -122.409253 37...\n",
       "Name: geometry, Length: 196, dtype: object"
      ]
     },
     "execution_count": 21,
     "metadata": {},
     "output_type": "execute_result"
    }
   ],
   "source": [
    "sf_census = pd.read_csv('sf polygons.csv')\n",
    "sf_census['geometry']"
   ]
  },
  {
   "cell_type": "code",
   "execution_count": null,
   "metadata": {},
   "outputs": [],
   "source": []
  }
 ],
 "metadata": {
  "kernelspec": {
   "display_name": "Python 3",
   "language": "python",
   "name": "python3"
  },
  "language_info": {
   "codemirror_mode": {
    "name": "ipython",
    "version": 3
   },
   "file_extension": ".py",
   "mimetype": "text/x-python",
   "name": "python",
   "nbconvert_exporter": "python",
   "pygments_lexer": "ipython3",
   "version": "3.7.2"
  }
 },
 "nbformat": 4,
 "nbformat_minor": 4
}
