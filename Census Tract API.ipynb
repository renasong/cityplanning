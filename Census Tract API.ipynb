{
 "cells": [
  {
   "cell_type": "markdown",
   "metadata": {},
   "source": [
    "https://pypi.org/project/censusgeocode/"
   ]
  },
  {
   "cell_type": "code",
   "execution_count": 50,
   "metadata": {},
   "outputs": [],
   "source": [
    "import censusgeocode as cg"
   ]
  },
  {
   "cell_type": "code",
   "execution_count": 2,
   "metadata": {},
   "outputs": [],
   "source": [
    "import numpy as np\n",
    "import pandas as pd\n",
    "census_number = np.load('census tract numbers.npy',allow_pickle=True)"
   ]
  },
  {
   "cell_type": "code",
   "execution_count": 5,
   "metadata": {},
   "outputs": [
    {
     "data": {
      "text/html": [
       "<div>\n",
       "<style scoped>\n",
       "    .dataframe tbody tr th:only-of-type {\n",
       "        vertical-align: middle;\n",
       "    }\n",
       "\n",
       "    .dataframe tbody tr th {\n",
       "        vertical-align: top;\n",
       "    }\n",
       "\n",
       "    .dataframe thead th {\n",
       "        text-align: right;\n",
       "    }\n",
       "</style>\n",
       "<table border=\"1\" class=\"dataframe\">\n",
       "  <thead>\n",
       "    <tr style=\"text-align: right;\">\n",
       "      <th></th>\n",
       "      <th>STATEFP</th>\n",
       "      <th>COUNTYFP</th>\n",
       "      <th>TRACTCE</th>\n",
       "      <th>AFFGEOID</th>\n",
       "      <th>GEOID</th>\n",
       "      <th>NAME</th>\n",
       "      <th>LSAD</th>\n",
       "      <th>ALAND</th>\n",
       "      <th>AWATER</th>\n",
       "      <th>geometry</th>\n",
       "    </tr>\n",
       "  </thead>\n",
       "  <tbody>\n",
       "    <tr>\n",
       "      <th>0</th>\n",
       "      <td>06</td>\n",
       "      <td>009</td>\n",
       "      <td>000300</td>\n",
       "      <td>1400000US06009000300</td>\n",
       "      <td>06009000300</td>\n",
       "      <td>3</td>\n",
       "      <td>CT</td>\n",
       "      <td>457009794</td>\n",
       "      <td>394122</td>\n",
       "      <td>POLYGON ((-120.76399 38.21389, -120.76197 38.2...</td>\n",
       "    </tr>\n",
       "    <tr>\n",
       "      <th>1</th>\n",
       "      <td>06</td>\n",
       "      <td>011</td>\n",
       "      <td>000300</td>\n",
       "      <td>1400000US06011000300</td>\n",
       "      <td>06011000300</td>\n",
       "      <td>3</td>\n",
       "      <td>CT</td>\n",
       "      <td>952744514</td>\n",
       "      <td>195376</td>\n",
       "      <td>POLYGON ((-122.50006 39.12232, -122.50022 39.1...</td>\n",
       "    </tr>\n",
       "    <tr>\n",
       "      <th>2</th>\n",
       "      <td>06</td>\n",
       "      <td>013</td>\n",
       "      <td>303102</td>\n",
       "      <td>1400000US06013303102</td>\n",
       "      <td>06013303102</td>\n",
       "      <td>3031.02</td>\n",
       "      <td>CT</td>\n",
       "      <td>6507019</td>\n",
       "      <td>0</td>\n",
       "      <td>POLYGON ((-121.72937 37.96884, -121.71409 37.9...</td>\n",
       "    </tr>\n",
       "    <tr>\n",
       "      <th>3</th>\n",
       "      <td>06</td>\n",
       "      <td>013</td>\n",
       "      <td>303202</td>\n",
       "      <td>1400000US06013303202</td>\n",
       "      <td>06013303202</td>\n",
       "      <td>3032.02</td>\n",
       "      <td>CT</td>\n",
       "      <td>3725528</td>\n",
       "      <td>0</td>\n",
       "      <td>POLYGON ((-121.72346 37.96161, -121.71672 37.9...</td>\n",
       "    </tr>\n",
       "    <tr>\n",
       "      <th>4</th>\n",
       "      <td>06</td>\n",
       "      <td>013</td>\n",
       "      <td>303203</td>\n",
       "      <td>1400000US06013303203</td>\n",
       "      <td>06013303203</td>\n",
       "      <td>3032.03</td>\n",
       "      <td>CT</td>\n",
       "      <td>6354210</td>\n",
       "      <td>0</td>\n",
       "      <td>POLYGON ((-121.74486 37.95681, -121.74425 37.9...</td>\n",
       "    </tr>\n",
       "    <tr>\n",
       "      <th>...</th>\n",
       "      <td>...</td>\n",
       "      <td>...</td>\n",
       "      <td>...</td>\n",
       "      <td>...</td>\n",
       "      <td>...</td>\n",
       "      <td>...</td>\n",
       "      <td>...</td>\n",
       "      <td>...</td>\n",
       "      <td>...</td>\n",
       "      <td>...</td>\n",
       "    </tr>\n",
       "    <tr>\n",
       "      <th>8036</th>\n",
       "      <td>06</td>\n",
       "      <td>075</td>\n",
       "      <td>022902</td>\n",
       "      <td>1400000US06075022902</td>\n",
       "      <td>06075022902</td>\n",
       "      <td>229.02</td>\n",
       "      <td>CT</td>\n",
       "      <td>161833</td>\n",
       "      <td>0</td>\n",
       "      <td>POLYGON ((-122.41205 37.75423, -122.40925 37.7...</td>\n",
       "    </tr>\n",
       "    <tr>\n",
       "      <th>8037</th>\n",
       "      <td>06</td>\n",
       "      <td>065</td>\n",
       "      <td>044804</td>\n",
       "      <td>1400000US06065044804</td>\n",
       "      <td>06065044804</td>\n",
       "      <td>448.04</td>\n",
       "      <td>CT</td>\n",
       "      <td>2374766</td>\n",
       "      <td>248057</td>\n",
       "      <td>POLYGON ((-116.51068 33.80502, -116.51069 33.8...</td>\n",
       "    </tr>\n",
       "    <tr>\n",
       "      <th>8038</th>\n",
       "      <td>06</td>\n",
       "      <td>099</td>\n",
       "      <td>003300</td>\n",
       "      <td>1400000US06099003300</td>\n",
       "      <td>06099003300</td>\n",
       "      <td>33</td>\n",
       "      <td>CT</td>\n",
       "      <td>640784444</td>\n",
       "      <td>2596432</td>\n",
       "      <td>POLYGON ((-121.48677 37.47565, -121.48341 37.4...</td>\n",
       "    </tr>\n",
       "    <tr>\n",
       "      <th>8039</th>\n",
       "      <td>06</td>\n",
       "      <td>037</td>\n",
       "      <td>124400</td>\n",
       "      <td>1400000US06037124400</td>\n",
       "      <td>06037124400</td>\n",
       "      <td>1244</td>\n",
       "      <td>CT</td>\n",
       "      <td>961439</td>\n",
       "      <td>14163</td>\n",
       "      <td>POLYGON ((-118.41379 34.17940, -118.41160 34.1...</td>\n",
       "    </tr>\n",
       "    <tr>\n",
       "      <th>8040</th>\n",
       "      <td>06</td>\n",
       "      <td>107</td>\n",
       "      <td>003901</td>\n",
       "      <td>1400000US06107003901</td>\n",
       "      <td>06107003901</td>\n",
       "      <td>39.01</td>\n",
       "      <td>CT</td>\n",
       "      <td>4993183</td>\n",
       "      <td>25643</td>\n",
       "      <td>POLYGON ((-119.00850 36.07658, -118.99978 36.0...</td>\n",
       "    </tr>\n",
       "  </tbody>\n",
       "</table>\n",
       "<p>8041 rows × 10 columns</p>\n",
       "</div>"
      ],
      "text/plain": [
       "     STATEFP COUNTYFP TRACTCE              AFFGEOID        GEOID     NAME  \\\n",
       "0         06      009  000300  1400000US06009000300  06009000300        3   \n",
       "1         06      011  000300  1400000US06011000300  06011000300        3   \n",
       "2         06      013  303102  1400000US06013303102  06013303102  3031.02   \n",
       "3         06      013  303202  1400000US06013303202  06013303202  3032.02   \n",
       "4         06      013  303203  1400000US06013303203  06013303203  3032.03   \n",
       "...      ...      ...     ...                   ...          ...      ...   \n",
       "8036      06      075  022902  1400000US06075022902  06075022902   229.02   \n",
       "8037      06      065  044804  1400000US06065044804  06065044804   448.04   \n",
       "8038      06      099  003300  1400000US06099003300  06099003300       33   \n",
       "8039      06      037  124400  1400000US06037124400  06037124400     1244   \n",
       "8040      06      107  003901  1400000US06107003901  06107003901    39.01   \n",
       "\n",
       "     LSAD      ALAND   AWATER  \\\n",
       "0      CT  457009794   394122   \n",
       "1      CT  952744514   195376   \n",
       "2      CT    6507019        0   \n",
       "3      CT    3725528        0   \n",
       "4      CT    6354210        0   \n",
       "...   ...        ...      ...   \n",
       "8036   CT     161833        0   \n",
       "8037   CT    2374766   248057   \n",
       "8038   CT  640784444  2596432   \n",
       "8039   CT     961439    14163   \n",
       "8040   CT    4993183    25643   \n",
       "\n",
       "                                               geometry  \n",
       "0     POLYGON ((-120.76399 38.21389, -120.76197 38.2...  \n",
       "1     POLYGON ((-122.50006 39.12232, -122.50022 39.1...  \n",
       "2     POLYGON ((-121.72937 37.96884, -121.71409 37.9...  \n",
       "3     POLYGON ((-121.72346 37.96161, -121.71672 37.9...  \n",
       "4     POLYGON ((-121.74486 37.95681, -121.74425 37.9...  \n",
       "...                                                 ...  \n",
       "8036  POLYGON ((-122.41205 37.75423, -122.40925 37.7...  \n",
       "8037  POLYGON ((-116.51068 33.80502, -116.51069 33.8...  \n",
       "8038  POLYGON ((-121.48677 37.47565, -121.48341 37.4...  \n",
       "8039  POLYGON ((-118.41379 34.17940, -118.41160 34.1...  \n",
       "8040  POLYGON ((-119.00850 36.07658, -118.99978 36.0...  \n",
       "\n",
       "[8041 rows x 10 columns]"
      ]
     },
     "execution_count": 5,
     "metadata": {},
     "output_type": "execute_result"
    }
   ],
   "source": [
    "import geopandas\n",
    "import numpy as np\n",
    "import pandas as pd\n",
    "\n",
    "polygons = geopandas.read_file(\"/Users/annieouyang/Downloads/cb_2018_06_tract_500k 2\")\n",
    "polygons"
   ]
  },
  {
   "cell_type": "code",
   "execution_count": 6,
   "metadata": {},
   "outputs": [
    {
     "data": {
      "image/svg+xml": [
       "<svg xmlns=\"http://www.w3.org/2000/svg\" xmlns:xlink=\"http://www.w3.org/1999/xlink\" width=\"100.0\" height=\"100.0\" viewBox=\"-122.42713660680242 37.79900639319759 0.01001521360484503 0.01257138366523236\" preserveAspectRatio=\"xMinYMin meet\"><g transform=\"matrix(1,0,0,-1,0,75.6105841700604)\"><path fill-rule=\"evenodd\" fill=\"#66cc99\" stroke=\"#555555\" stroke-width=\"0.0002514276733046472\" opacity=\"0.6\" d=\"M -122.426671,37.809639 L -122.424876,37.810798999999996 L -122.42504116215702,37.811001508766 L -122.42061231511501,37.811112170060404 L -122.419224,37.808453 L -122.418718,37.805932 L -122.41828100000001,37.804023 L -122.417799,37.801266999999996 L -122.417587,37.800340999999996 L -122.420769,37.799938999999995 L -122.420883,37.799901999999996 L -122.424275,37.799472 L -122.424464,37.800402 L -122.424835,37.802268 L -122.425209,37.804133 L -122.425628,37.806456 L -122.426613,37.808152 L -122.426671,37.809639 z\" /></g></svg>"
      ],
      "text/plain": [
       "<shapely.geometry.polygon.Polygon at 0x117d718d0>"
      ]
     },
     "execution_count": 6,
     "metadata": {},
     "output_type": "execute_result"
    }
   ],
   "source": [
    "sf = polygons[polygons.COUNTYFP == '075']\n",
    "sf.geometry.iloc[0]"
   ]
  },
  {
   "cell_type": "code",
   "execution_count": 99,
   "metadata": {},
   "outputs": [],
   "source": [
    "sf.to_csv('sf polygons.csv')"
   ]
  },
  {
   "cell_type": "code",
   "execution_count": 7,
   "metadata": {},
   "outputs": [
    {
     "data": {
      "text/plain": [
       "(array('d', [-122.426671, -122.424876, -122.42504116215702, -122.42061231511501, -122.419224, -122.418718, -122.41828100000001, -122.417799, -122.417587, -122.420769, -122.420883, -122.424275, -122.424464, -122.424835, -122.425209, -122.425628, -122.426613, -122.426671]),\n",
       " array('d', [37.809639, 37.810798999999996, 37.811001508766, 37.811112170060404, 37.808453, 37.805932, 37.804023, 37.801266999999996, 37.800340999999996, 37.799938999999995, 37.799901999999996, 37.799472, 37.800402, 37.802268, 37.804133, 37.806456, 37.808152, 37.809639]))"
      ]
     },
     "execution_count": 7,
     "metadata": {},
     "output_type": "execute_result"
    }
   ],
   "source": [
    "x, y = sf.geometry.iloc[0].exterior.coords.xy\n",
    "x,y"
   ]
  },
  {
   "cell_type": "markdown",
   "metadata": {},
   "source": [
    "### Mapping neighborhoods to census tracts"
   ]
  },
  {
   "cell_type": "code",
   "execution_count": 49,
   "metadata": {},
   "outputs": [],
   "source": [
    "# mapping neighb\n",
    "neigh = pd.read_csv('/Users/annieouyang/Downloads/Analysis_Neighborhoods.csv')\n",
    "neigh['TRACTCE']=['0'+x if len(x)==5 else x for x in neigh['TRACTCE10'].astype(str)]\n",
    "sf_neighborhoods = sf.merge(neigh[['NHOOD','TRACTCE']].astype(str),left_on ='TRACTCE',right_on='TRACTCE')"
   ]
  },
  {
   "cell_type": "code",
   "execution_count": 44,
   "metadata": {},
   "outputs": [],
   "source": [
    "sf_neighborhoods.to_csv('sf_neighborhoods')"
   ]
  }
 ],
 "metadata": {
  "kernelspec": {
   "display_name": "Python 3",
   "language": "python",
   "name": "python3"
  },
  "language_info": {
   "codemirror_mode": {
    "name": "ipython",
    "version": 3
   },
   "file_extension": ".py",
   "mimetype": "text/x-python",
   "name": "python",
   "nbconvert_exporter": "python",
   "pygments_lexer": "ipython3",
   "version": "3.7.2"
  }
 },
 "nbformat": 4,
 "nbformat_minor": 4
}
