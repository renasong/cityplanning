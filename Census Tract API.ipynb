{
 "cells": [
  {
   "cell_type": "markdown",
   "metadata": {},
   "source": [
    "https://pypi.org/project/censusgeocode/"
   ]
  },
  {
   "cell_type": "code",
   "execution_count": 10,
   "metadata": {},
   "outputs": [
    {
     "data": {
      "text/plain": [
       "{'2010 Census Blocks': [{'SUFFIX': '',\n",
       "   'GEOID': '360610054001004',\n",
       "   'CENTLAT': '+40.7388885',\n",
       "   'BLOCK': '1004',\n",
       "   'AREAWATER': 0,\n",
       "   'STATE': '36',\n",
       "   'BASENAME': '1004',\n",
       "   'OID': 210403969809634,\n",
       "   'LSADC': 'BK',\n",
       "   'FUNCSTAT': 'S',\n",
       "   'INTPTLAT': '+40.7388885',\n",
       "   'NAME': 'Block 1004',\n",
       "   'OBJECTID': 1184891,\n",
       "   'TRACT': '005400',\n",
       "   'CENTLON': '-073.9936222',\n",
       "   'BLKGRP': '1',\n",
       "   'AREALAND': 23183,\n",
       "   'INTPTLON': '-073.9936222',\n",
       "   'MTFCC': 'G5040',\n",
       "   'LWBLKTYP': 'L',\n",
       "   'COUNTY': '061',\n",
       "   'CENT': (-73.9936222, 40.7388885),\n",
       "   'INTPT': (-73.9936222, 40.7388885)}],\n",
       " 'States': [{'STATENS': '01779796',\n",
       "   'GEOID': '36',\n",
       "   'CENTLAT': '+42.9198015',\n",
       "   'AREAWATER': 19244881040,\n",
       "   'STATE': '36',\n",
       "   'BASENAME': 'New York',\n",
       "   'STUSAB': 'NY',\n",
       "   'OID': 27490100833860,\n",
       "   'LSADC': '00',\n",
       "   'FUNCSTAT': 'A',\n",
       "   'INTPTLAT': '+42.9133974',\n",
       "   'DIVISION': '2',\n",
       "   'NAME': 'New York',\n",
       "   'REGION': '1',\n",
       "   'OBJECTID': 39,\n",
       "   'CENTLON': '-075.5942771',\n",
       "   'AREALAND': 122050448177,\n",
       "   'INTPTLON': '-075.5962723',\n",
       "   'MTFCC': 'G4000',\n",
       "   'CENT': (-75.5942771, 42.9198015),\n",
       "   'INTPT': (-75.5962723, 42.9133974)}],\n",
       " 'Counties': [{'GEOID': '36061',\n",
       "   'CENTLAT': '+40.7741301',\n",
       "   'AREAWATER': 28551431,\n",
       "   'STATE': '36',\n",
       "   'BASENAME': 'New York',\n",
       "   'OID': 27590460844234,\n",
       "   'LSADC': '06',\n",
       "   'FUNCSTAT': 'C',\n",
       "   'INTPTLAT': '+40.7766419',\n",
       "   'NAME': 'New York County',\n",
       "   'OBJECTID': 2446,\n",
       "   'CENTLON': '-073.9698320',\n",
       "   'COUNTYCC': 'H6',\n",
       "   'COUNTYNS': '00974129',\n",
       "   'AREALAND': 58680717,\n",
       "   'INTPTLON': '-073.9701871',\n",
       "   'MTFCC': 'G4020',\n",
       "   'COUNTY': '061',\n",
       "   'CENT': (-73.969832, 40.7741301),\n",
       "   'INTPT': (-73.9701871, 40.7766419)}],\n",
       " 'Census Tracts': [{'GEOID': '36061005400',\n",
       "   'CENTLAT': '+40.7388112',\n",
       "   'AREAWATER': 0,\n",
       "   'STATE': '36',\n",
       "   'BASENAME': '54',\n",
       "   'OID': 20790460875542,\n",
       "   'LSADC': 'CT',\n",
       "   'FUNCSTAT': 'S',\n",
       "   'INTPTLAT': '+40.7388112',\n",
       "   'NAME': 'Census Tract 54',\n",
       "   'OBJECTID': 9799,\n",
       "   'TRACT': '005400',\n",
       "   'CENTLON': '-073.9936780',\n",
       "   'AREALAND': 167959,\n",
       "   'INTPTLON': '-073.9936780',\n",
       "   'MTFCC': 'G5020',\n",
       "   'COUNTY': '061',\n",
       "   'CENT': (-73.993678, 40.7388112),\n",
       "   'INTPT': (-73.993678, 40.7388112)}]}"
      ]
     },
     "execution_count": 10,
     "metadata": {},
     "output_type": "execute_result"
    }
   ],
   "source": [
    "import censusgeocode as cg\n",
    "result = cg.onelineaddress('152 Panoramic Way, Berkeley')\n",
    "result = cg.coordinates(-73.992195,40.73797)\n",
    "result"
   ]
  },
  {
   "cell_type": "code",
   "execution_count": null,
   "metadata": {},
   "outputs": [],
   "source": []
  }
 ],
 "metadata": {
  "kernelspec": {
   "display_name": "Python 3",
   "language": "python",
   "name": "python3"
  },
  "language_info": {
   "codemirror_mode": {
    "name": "ipython",
    "version": 3
   },
   "file_extension": ".py",
   "mimetype": "text/x-python",
   "name": "python",
   "nbconvert_exporter": "python",
   "pygments_lexer": "ipython3",
   "version": "3.7.2"
  }
 },
 "nbformat": 4,
 "nbformat_minor": 4
}
