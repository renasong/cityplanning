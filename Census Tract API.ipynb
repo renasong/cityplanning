{
 "cells": [
  {
   "cell_type": "markdown",
   "metadata": {},
   "source": [
    "https://pypi.org/project/censusgeocode/"
   ]
  },
  {
   "cell_type": "code",
   "execution_count": 1,
   "metadata": {},
   "outputs": [
    {
     "data": {
      "text/plain": [
       "{'2010 Census Blocks': [{'SUFFIX': '',\n",
       "   'GEOID': '360610054001004',\n",
       "   'CENTLAT': '+40.7388885',\n",
       "   'BLOCK': '1004',\n",
       "   'AREAWATER': 0,\n",
       "   'STATE': '36',\n",
       "   'BASENAME': '1004',\n",
       "   'OID': 210403969809634,\n",
       "   'LSADC': 'BK',\n",
       "   'FUNCSTAT': 'S',\n",
       "   'INTPTLAT': '+40.7388885',\n",
       "   'NAME': 'Block 1004',\n",
       "   'OBJECTID': 1184891,\n",
       "   'TRACT': '005400',\n",
       "   'CENTLON': '-073.9936222',\n",
       "   'BLKGRP': '1',\n",
       "   'AREALAND': 23183,\n",
       "   'INTPTLON': '-073.9936222',\n",
       "   'MTFCC': 'G5040',\n",
       "   'LWBLKTYP': 'L',\n",
       "   'COUNTY': '061',\n",
       "   'CENT': (-73.9936222, 40.7388885),\n",
       "   'INTPT': (-73.9936222, 40.7388885)}],\n",
       " 'States': [{'STATENS': '01779796',\n",
       "   'GEOID': '36',\n",
       "   'CENTLAT': '+42.9198015',\n",
       "   'AREAWATER': 19244881040,\n",
       "   'STATE': '36',\n",
       "   'BASENAME': 'New York',\n",
       "   'STUSAB': 'NY',\n",
       "   'OID': 27490100833860,\n",
       "   'LSADC': '00',\n",
       "   'FUNCSTAT': 'A',\n",
       "   'INTPTLAT': '+42.9133974',\n",
       "   'DIVISION': '2',\n",
       "   'NAME': 'New York',\n",
       "   'REGION': '1',\n",
       "   'OBJECTID': 39,\n",
       "   'CENTLON': '-075.5942771',\n",
       "   'AREALAND': 122050448177,\n",
       "   'INTPTLON': '-075.5962723',\n",
       "   'MTFCC': 'G4000',\n",
       "   'CENT': (-75.5942771, 42.9198015),\n",
       "   'INTPT': (-75.5962723, 42.9133974)}],\n",
       " 'Counties': [{'GEOID': '36061',\n",
       "   'CENTLAT': '+40.7741301',\n",
       "   'AREAWATER': 28551431,\n",
       "   'STATE': '36',\n",
       "   'BASENAME': 'New York',\n",
       "   'OID': 27590460844234,\n",
       "   'LSADC': '06',\n",
       "   'FUNCSTAT': 'C',\n",
       "   'INTPTLAT': '+40.7766419',\n",
       "   'NAME': 'New York County',\n",
       "   'OBJECTID': 2446,\n",
       "   'CENTLON': '-073.9698320',\n",
       "   'COUNTYCC': 'H6',\n",
       "   'COUNTYNS': '00974129',\n",
       "   'AREALAND': 58680717,\n",
       "   'INTPTLON': '-073.9701871',\n",
       "   'MTFCC': 'G4020',\n",
       "   'COUNTY': '061',\n",
       "   'CENT': (-73.969832, 40.7741301),\n",
       "   'INTPT': (-73.9701871, 40.7766419)}],\n",
       " 'Census Tracts': [{'GEOID': '36061005400',\n",
       "   'CENTLAT': '+40.7388112',\n",
       "   'AREAWATER': 0,\n",
       "   'STATE': '36',\n",
       "   'BASENAME': '54',\n",
       "   'OID': 20790460875542,\n",
       "   'LSADC': 'CT',\n",
       "   'FUNCSTAT': 'S',\n",
       "   'INTPTLAT': '+40.7388112',\n",
       "   'NAME': 'Census Tract 54',\n",
       "   'OBJECTID': 9799,\n",
       "   'TRACT': '005400',\n",
       "   'CENTLON': '-073.9936780',\n",
       "   'AREALAND': 167959,\n",
       "   'INTPTLON': '-073.9936780',\n",
       "   'MTFCC': 'G5020',\n",
       "   'COUNTY': '061',\n",
       "   'CENT': (-73.993678, 40.7388112),\n",
       "   'INTPT': (-73.993678, 40.7388112)}]}"
      ]
     },
     "execution_count": 1,
     "metadata": {},
     "output_type": "execute_result"
    }
   ],
   "source": [
    "import censusgeocode as cg\n",
    "result = cg.onelineaddress('152 Panoramic Way, Berkeley')\n",
    "result = cg.coordinates(-73.992195,40.73797)\n",
    "result"
   ]
  },
  {
   "cell_type": "code",
   "execution_count": 3,
   "metadata": {},
   "outputs": [],
   "source": [
    "# from arcgis.gis import *\n",
    "# gis = GIS()\n",
    "# map1 = gis.map('USA')\n",
    "# map1"
   ]
  },
  {
   "cell_type": "code",
   "execution_count": 7,
   "metadata": {},
   "outputs": [
    {
     "data": {
      "text/plain": [
       "array(['156', '102', '108', '331', '402', '428', '234', '165', '307',\n",
       "       '351', '130', '260.02', '264.02', '303.01', '308', '254.02',\n",
       "       '479.01', '262', '216', '309', '477.01', '477.02', '605.02', '607',\n",
       "       '479.02', '604', '109', '118', '121', '128', '155', '161', '163',\n",
       "       '176.01', '201', '206', '209', '218', '226', '231.02', '251',\n",
       "       '170', '180', '215', '228.03', '264.04', '306', '310', '332.01',\n",
       "       '111', '117', '154', '104', '255', '256', '258', '260.01', '451',\n",
       "       '452', '261', '233', '253', '254.01', '305', '263.01', '263.02',\n",
       "       '263.03', '311', '217', '228.02', '229.01', '229.02', '229.03',\n",
       "       '230.03', '264.03', '302.01', '303.02', '304', '103', '110',\n",
       "       '260.04', '301.01', '330', '254.03', '264.01', '302.02', '353',\n",
       "       '476', '106', '208', '610', '203', '207', '211', '212', '213',\n",
       "       '107', '162', '169', '252', '101', '112', '134', '151', '157',\n",
       "       '164', '166', '179.02', '214', '120', '127', '132', '133', '135',\n",
       "       '153', '167', '202', '205', '210', '230.01', '352.02', '427',\n",
       "       '601', '314', '327', '401', '232', '301.02', '352.01', '354',\n",
       "       '159', '160', '105', '113', '152', '177', '227.02', '228.01',\n",
       "       '231.03', '259', '260.03', '615', '119.01', '119.02', '122.01',\n",
       "       '122.02', '123.01', '123.02', '124.01', '124.02', '125.01',\n",
       "       '125.02', '126.01', '126.02', '129.01', '129.02', '131.01',\n",
       "       '131.02', '158.01', '158.02', '168.01', '168.02', '171.01',\n",
       "       '171.02', '178.01', '178.02', '204.01', '204.02', '227.04',\n",
       "       '257.01', '313.01', '257.02', '312.01', '312.02', '313.02',\n",
       "       '326.01', '326.02', '328.01', '328.02', '332.04', '329.01',\n",
       "       '329.02', '332.03', '426.01', '426.02', '478.01', '478.02', '611',\n",
       "       '612', '614', '9802', '9803', '9804.01', '9805.01', '9806', '9809',\n",
       "       '9901'], dtype=object)"
      ]
     },
     "execution_count": 7,
     "metadata": {},
     "output_type": "execute_result"
    }
   ],
   "source": [
    "import numpy as np\n",
    "census_number = np.load('census tract numbers.npy',allow_pickle=True)"
   ]
  },
  {
   "cell_type": "code",
   "execution_count": 55,
   "metadata": {},
   "outputs": [],
   "source": [
    "import geopandas\n",
    "import numpy as np\n",
    "\n",
    "polygons = geopandas.read_file(\"/Users/annieouyang/Downloads/cb_2018_06_tract_500k 2\")"
   ]
  },
  {
   "cell_type": "code",
   "execution_count": 78,
   "metadata": {},
   "outputs": [
    {
     "data": {
      "image/svg+xml": [
       "<svg xmlns=\"http://www.w3.org/2000/svg\" xmlns:xlink=\"http://www.w3.org/1999/xlink\" width=\"100.0\" height=\"100.0\" viewBox=\"-122.42713660680242 37.79900639319759 0.01001521360484503 0.01257138366523236\" preserveAspectRatio=\"xMinYMin meet\"><g transform=\"matrix(1,0,0,-1,0,75.6105841700604)\"><path fill-rule=\"evenodd\" fill=\"#66cc99\" stroke=\"#555555\" stroke-width=\"0.0002514276733046472\" opacity=\"0.6\" d=\"M -122.426671,37.809639 L -122.424876,37.810798999999996 L -122.42504116215702,37.811001508766 L -122.42061231511501,37.811112170060404 L -122.419224,37.808453 L -122.418718,37.805932 L -122.41828100000001,37.804023 L -122.417799,37.801266999999996 L -122.417587,37.800340999999996 L -122.420769,37.799938999999995 L -122.420883,37.799901999999996 L -122.424275,37.799472 L -122.424464,37.800402 L -122.424835,37.802268 L -122.425209,37.804133 L -122.425628,37.806456 L -122.426613,37.808152 L -122.426671,37.809639 z\" /></g></svg>"
      ],
      "text/plain": [
       "<shapely.geometry.polygon.Polygon at 0x1198bc320>"
      ]
     },
     "execution_count": 78,
     "metadata": {},
     "output_type": "execute_result"
    }
   ],
   "source": [
    "sf = polygons[polygons.COUNTYFP == '075']\n",
    "sf.geometry.iloc[0]"
   ]
  },
  {
   "cell_type": "code",
   "execution_count": 81,
   "metadata": {},
   "outputs": [
    {
     "data": {
      "text/plain": [
       "(array('d', [-122.426671, -122.424876, -122.42504116215702, -122.42061231511501, -122.419224, -122.418718, -122.41828100000001, -122.417799, -122.417587, -122.420769, -122.420883, -122.424275, -122.424464, -122.424835, -122.425209, -122.425628, -122.426613, -122.426671]),\n",
       " array('d', [37.809639, 37.810798999999996, 37.811001508766, 37.811112170060404, 37.808453, 37.805932, 37.804023, 37.801266999999996, 37.800340999999996, 37.799938999999995, 37.799901999999996, 37.799472, 37.800402, 37.802268, 37.804133, 37.806456, 37.808152, 37.809639]))"
      ]
     },
     "execution_count": 81,
     "metadata": {},
     "output_type": "execute_result"
    }
   ],
   "source": [
    "x, y = sf.geometry.iloc[0].exterior.coords.xy\n",
    "x,y"
   ]
  },
  {
   "cell_type": "code",
   "execution_count": null,
   "metadata": {},
   "outputs": [],
   "source": []
  }
 ],
 "metadata": {
  "kernelspec": {
   "display_name": "Python 3",
   "language": "python",
   "name": "python3"
  },
  "language_info": {
   "codemirror_mode": {
    "name": "ipython",
    "version": 3
   },
   "file_extension": ".py",
   "mimetype": "text/x-python",
   "name": "python",
   "nbconvert_exporter": "python",
   "pygments_lexer": "ipython3",
   "version": "3.7.2"
  }
 },
 "nbformat": 4,
 "nbformat_minor": 4
}
