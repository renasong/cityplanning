{
 "cells": [
  {
   "cell_type": "code",
   "execution_count": 1,
   "metadata": {},
   "outputs": [],
   "source": [
    "import pandas as pd\n",
    "import numpy as np"
   ]
  },
  {
   "cell_type": "code",
   "execution_count": 4,
   "metadata": {},
   "outputs": [],
   "source": [
    "#Median Income\n",
    "Y2010 = pd.read_csv('2010_med_income.csv')\n",
    "Y2011 = pd.read_csv('2011_med_income.csv')\n",
    "Y2012 = pd.read_csv('2012_med_income.csv')\n",
    "Y2013 = pd.read_csv('2013_med_income.csv')\n",
    "Y2014 = pd.read_csv('2014_med_income.csv')\n",
    "Y2015 = pd.read_csv('2015_med_income.csv')\n",
    "Y2016 = pd.read_csv('2016_med_income.csv')\n",
    "Y2017 = pd.read_csv('2017_med_income.csv')\n",
    "Y2018 = pd.read_csv('2018_med_income.csv')"
   ]
  },
  {
   "cell_type": "code",
   "execution_count": null,
   "metadata": {},
   "outputs": [],
   "source": [
    "#"
   ]
  }
 ],
 "metadata": {
  "kernelspec": {
   "display_name": "Python 3",
   "language": "python",
   "name": "python3"
  },
  "language_info": {
   "codemirror_mode": {
    "name": "ipython",
    "version": 3
   },
   "file_extension": ".py",
   "mimetype": "text/x-python",
   "name": "python",
   "nbconvert_exporter": "python",
   "pygments_lexer": "ipython3",
   "version": "3.7.2"
  }
 },
 "nbformat": 4,
 "nbformat_minor": 4
}
