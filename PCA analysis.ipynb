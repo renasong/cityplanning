{
 "cells": [
  {
   "cell_type": "code",
   "execution_count": 540,
   "metadata": {},
   "outputs": [],
   "source": [
    "import pandas as pd\n",
    "import numpy as np\n",
    "import matplotlib.pyplot as plt"
   ]
  },
  {
   "cell_type": "code",
   "execution_count": 541,
   "metadata": {},
   "outputs": [],
   "source": [
    "#Median Income\n",
    "Y2018 = pd.read_csv('2018_med_income.csv')\n",
    "Y2018 = Y2018.set_index(Y2018['Geographic Area Name'].str.extract('(\\d+.*\\d+)')[0])[:-2]\n",
    "Y2017 = pd.read_csv('2017_med_income.csv')\n",
    "Y2017 = Y2017.set_index(Y2017['Geographic Area Name'].str.extract('(\\d+.*\\d+)')[0])[:-2]\n",
    "Y2016 = pd.read_csv('2016_med_income.csv')\n",
    "Y2016 = Y2016.set_index(Y2016['Geographic Area Name'].str.extract('(\\d+.*\\d+)')[0])[:-2]\n",
    "Y2015 = pd.read_csv('2015_med_income.csv')\n",
    "Y2015 = Y2015.set_index(Y2015['Geographic Area Name'].str.extract('(\\d+.*\\d+)')[0])[:-2]\n",
    "Y2014 = pd.read_csv('2014_med_income.csv')\n",
    "Y2014 = Y2014.set_index(Y2014['Geographic Area Name'].str.extract('(\\d+.*\\d+)')[0])[:-2]\n",
    "Y2013 = pd.read_csv('2013_med_income.csv')\n",
    "Y2013 = Y2013.set_index(Y2013['Geographic Area Name'].str.extract('(\\d+.*\\d+)')[0])[:-2]\n",
    "Y2012 = pd.read_csv('2012_med_income.csv')\n",
    "Y2012 = Y2012.set_index(Y2012['Geographic Area Name'].str.extract('(\\d+.*\\d+)')[0])[:-2]\n",
    "Y2011 = pd.read_csv('2011_med_income.csv')\n",
    "Y2011 = Y2011.set_index(Y2011['Geographic Area Name'].str.extract('(\\d+.*\\d+)')[0])[:-2]\n",
    "Y2010 = pd.read_csv('2010_med_income.csv')\n",
    "Y2010 = Y2010.set_index(Y2010['Geographic Area Name'].str.extract('(\\d+.*\\d+)')[0])[:-2]\n",
    "lst = Y2010.index.tolist()\n",
    "idx = lst.index('615.00')\n",
    "lst[idx] = '615'\n",
    "Y2010.index = lst\n",
    "\n",
    "def get_avg_income(df):\n",
    "    df = df.drop(df.columns[[-1,-2,-3,-4]], axis=1)\n",
    "    df = df.set_index(df['Geographic Area Name'].str.extract('(\\d+.*\\d+)')[0])\n",
    "\n",
    "    household = df.iloc[:,2]\n",
    "    household = household[household!='-']\n",
    "    household = household[household!='(X)']\n",
    "    return np.average(household.astype(float))\n",
    "\n",
    "sf_median_income = [get_avg_income(Y2010),get_avg_income(Y2011),get_avg_income(Y2012),get_avg_income(Y2013),\n",
    "                    get_avg_income(Y2014),get_avg_income(Y2015),get_avg_income(Y2016),get_avg_income(Y2017),\n",
    "                    get_avg_income(Y2018)]\n",
    "\n",
    "def get_tract_income(df,tract):\n",
    "    return df.iloc[:,2][tract]"
   ]
  },
  {
   "cell_type": "code",
   "execution_count": 551,
   "metadata": {},
   "outputs": [],
   "source": [
    "#demographics\n",
    "dem_2018 = pd.read_csv('2018_demographic.csv')\n",
    "dem_2018 = dem_2018.set_index(dem_2018['Geographic Area Name'].str.extract('(\\d+.*\\d+)')[0])\n",
    "dem_2017 = pd.read_csv('2017_demographic.csv')\n",
    "dem_2017 = dem_2017.set_index(dem_2017['Geographic Area Name'].str.extract('(\\d+.*\\d+)')[0])\n",
    "dem_2016 = pd.read_csv('2016_demographic.csv')\n",
    "dem_2016 = dem_2016.set_index(dem_2016['Geographic Area Name'].str.extract('(\\d+.*\\d+)')[0])\n",
    "dem_2015 = pd.read_csv('2015_demographic.csv')\n",
    "dem_2015 = dem_2015.set_index(dem_2015['Geographic Area Name'].str.extract('(\\d+.*\\d+)')[0])\n",
    "dem_2014 = pd.read_csv('2014_demographic.csv')\n",
    "dem_2014 = dem_2014.set_index(dem_2014['Geographic Area Name'].str.extract('(\\d+.*\\d+)')[0])\n",
    "dem_2013 = pd.read_csv('2013_demographic.csv')\n",
    "dem_2013 = dem_2013.set_index(dem_2013['Geographic Area Name'].str.extract('(\\d+.*\\d+)')[0])\n",
    "dem_2012 = pd.read_csv('2012_demographic.csv')\n",
    "dem_2012 = dem_2012.set_index(dem_2012['Geographic Area Name'].str.extract('(\\d+.*\\d+)')[0])\n",
    "dem_2011 = pd.read_csv('2011_demographic.csv')\n",
    "dem_2011 = dem_2011.set_index(dem_2011['Geographic Area Name'].str.extract('(\\d+.*\\d+)')[0])\n",
    "dem_2010 = pd.read_csv('2010_demographic.csv')\n",
    "dem_2010 = dem_2010.set_index(dem_2010['Geographic Area Name'].str.extract('(\\d+.*\\d+)')[0])\n",
    "lst_dem = dem_2010.index.tolist()\n",
    "idx = lst_dem.index('615.00')\n",
    "lst_dem[idx] = '615'\n",
    "dem_2010.index = lst_dem\n",
    "\n",
    "def get_avg_demographics(df):\n",
    "    minority = df.iloc[:,4]/ df.iloc[:,2]\n",
    "    return minority.mean()\n",
    "\n",
    "sf_white = [get_avg_demographics(dem_2010),get_avg_demographics(dem_2011),get_avg_demographics(dem_2012),\n",
    "                  get_avg_demographics(dem_2013),get_avg_demographics(dem_2014),get_avg_demographics(dem_2015),\n",
    "                  get_avg_demographics(dem_2016),get_avg_demographics(dem_2017),get_avg_demographics(dem_2018)]\n",
    "\n",
    "def get_tract_demo(df,tract):\n",
    "    return (df.iloc[:,4]/ df.iloc[:,2]).loc[tract]"
   ]
  },
  {
   "cell_type": "code",
   "execution_count": 552,
   "metadata": {},
   "outputs": [],
   "source": [
    "#housing price\n",
    "housing = pd.read_csv('Effect - Housing Prices (Zillow).csv')\n",
    "housing = housing.drop(['Metro','StateName','State','City','RegionType','CountyName'],axis=1)\n",
    "dates = list(housing.columns[housing.columns.str.match('12/31/1[0-8]{1}')])\n",
    "housing = housing[['RegionName']+dates]\n",
    "sf_housing_prices = housing[dates].mean()"
   ]
  },
  {
   "cell_type": "code",
   "execution_count": 553,
   "metadata": {},
   "outputs": [],
   "source": [
    "#Housing price II Mapping neighborhoods\n",
    "sf_nhood = pd.read_csv('sf_neighborhoods')\n",
    "new = []\n",
    "for x in sf_nhood.NAME:\n",
    "    if x%1==0:\n",
    "        new += [str(int(x))]\n",
    "        \n",
    "    else:\n",
    "        new += [str(x)]\n",
    "        \n",
    "sf_nhood['NAME']=new\n",
    "\n",
    "# Renaming the neighborhoods so they match to the zillow dataset\n",
    "lst_housing = list(housing.RegionName)\n",
    "lst_housing[0]='Sunset/Parkside'\n",
    "lst_housing[4]='Sunset/Parkside'\n",
    "lst_housing[13]='Bayview Hunters Point'\n",
    "lst_housing[22]='Oceanview/Merced/Ingleside'\n",
    "lst_housing[28]='Lone Mountain/USF'\n",
    "lst_housing[37]='Financial District/South Beach'\n",
    "lst_housing[43]='Castro/Upper Market'\n",
    "lst_housing[51]='Financial District/South Beach'\n",
    "\n",
    "housing['RegionName']=lst_housing\n",
    "\n",
    "common = sf_nhood[['NAME','NHOOD']].merge(housing,left_on='NHOOD',right_on='RegionName')\n",
    "tract_housing_prices = common.set_index('NAME')[dates]"
   ]
  },
  {
   "cell_type": "code",
   "execution_count": 554,
   "metadata": {},
   "outputs": [],
   "source": [
    "#coffee shops\n",
    "coffee = pd.read_csv('coffee_sf_filtered.csv')"
   ]
  },
  {
   "cell_type": "code",
   "execution_count": 555,
   "metadata": {},
   "outputs": [],
   "source": [
    "#evictions\n"
   ]
  },
  {
   "cell_type": "code",
   "execution_count": 724,
   "metadata": {},
   "outputs": [
    {
     "data": {
      "text/plain": [
       "array([772041.98940827])"
      ]
     },
     "execution_count": 724,
     "metadata": {},
     "output_type": "execute_result"
    },
    {
     "data": {
      "image/png": "[encoded data removed]",
      "text/plain": [
       "<Figure size 432x288 with 1 Axes>"
      ]
     },
     "metadata": {
      "needs_background": "light"
     },
     "output_type": "display_data"
    }
   ],
   "source": [
    "#Gentrification index for SF\n",
    "from sklearn.decomposition import PCA\n",
    "\n",
    "years=pd.Series([2010,2011,2012,2013,2014,2015,2016,2017,2018])\n",
    "\n",
    "X = pd.DataFrame(sf_median_income)\n",
    "X = X.rename(columns={0: 'median_income'})\n",
    "X = X.set_index(years)\n",
    "X['housing_prices']=list(sf_housing_prices)\n",
    "X['minority']=sf_nonwhite\n",
    "X\n",
    "\n",
    "pca = PCA(n_components=1)\n",
    "plt.plot(pca.fit_transform(X))\n",
    "plt.title('SF Gentrification index')\n",
    "pca.fit_transform(X)[8]-pca.fit_transform(X)[0]"
   ]
  },
  {
   "cell_type": "markdown",
   "metadata": {},
   "source": [
    "## NEED TO FIX BUG"
   ]
  },
  {
   "cell_type": "code",
   "execution_count": 697,
   "metadata": {},
   "outputs": [],
   "source": [
    "#Gentrification index for all census tracts\n",
    "tracts = Y2018['Geographic Area Name'].str.extract('(\\d+.*\\d+)')[0]\n",
    "\n",
    "lst_df_incomes = [Y2010,Y2011,Y2012,Y2013,Y2014,Y2015,Y2016,Y2017,Y2018]\n",
    "lst_df_demo = [dem_2010,dem_2011,dem_2012,dem_2013,dem_2014,dem_2015,dem_2016,dem_2017,dem_2018]\n",
    "\n",
    "def pca_per_tract(tract_str):\n",
    "\n",
    "    tract_med = [get_tract_income(x,tract_str) for x in lst_df_incomes]\n",
    "    tract_white = [get_tract_demo(x,tract_str) for x in lst_df_demo]\n",
    "    tract_house = tract_housing_prices.loc[tract_str]\n",
    "\n",
    "    X = pd.DataFrame(zip(tract_med,tract_race,tract_house),columns=[\"tract_med\",'tract_white','tract_house'])\n",
    "    \n",
    "    pca = PCA(n_components=1)\n",
    "    y = pca.fit_transform(X)\n",
    "    return y\n",
    "\n",
    "results=[]\n",
    "for x in tracts:\n",
    "    try:\n",
    "        results+= [pca_per_tract(x)]\n",
    "    except:\n",
    "        results+= [0]\n",
    "    "
   ]
  },
  {
   "cell_type": "code",
   "execution_count": 698,
   "metadata": {},
   "outputs": [
    {
     "data": {
      "text/plain": [
       "[<matplotlib.lines.Line2D at 0x127ea67f0>]"
      ]
     },
     "execution_count": 698,
     "metadata": {},
     "output_type": "execute_result"
    },
    {
     "data": {
      "image/png": "[encoded data removed]",
      "text/plain": [
       "<Figure size 432x288 with 1 Axes>"
      ]
     },
     "metadata": {
      "needs_background": "light"
     },
     "output_type": "display_data"
    }
   ],
   "source": [
    "tract_med = [get_tract_income(x,'102') for x in lst_df_incomes]\n",
    "tract_white = [get_tract_demo(x,'102') for x in lst_df_demo]\n",
    "tract_house = list(tract_housing_prices.loc['102'])\n",
    "\n",
    "X = pd.DataFrame(zip(tract_med,tract_race,tract_house),columns=[\"tract_med\",'tract_white','tract_house'])\n",
    "\n",
    "pca = PCA(n_components=1)\n",
    "y = pca.fit_transform(X)\n",
    "plt.plot(y)"
   ]
  },
  {
   "cell_type": "code",
   "execution_count": 702,
   "metadata": {},
   "outputs": [
    {
     "ename": "TypeError",
     "evalue": "'int' object is not subscriptable",
     "output_type": "error",
     "traceback": [
      "\u001b[0;31m---------------------------------------------------------------------------\u001b[0m",
      "\u001b[0;31mTypeError\u001b[0m                                 Traceback (most recent call last)",
      "\u001b[0;32m<ipython-input-702-19db05374b7e>\u001b[0m in \u001b[0;36m<module>\u001b[0;34m\u001b[0m\n\u001b[0;32m----> 1\u001b[0;31m \u001b[0mnp\u001b[0m\u001b[0;34m.\u001b[0m\u001b[0marray\u001b[0m\u001b[0;34m(\u001b[0m\u001b[0;34m[\u001b[0m\u001b[0;34m(\u001b[0m\u001b[0mresults\u001b[0m\u001b[0;34m[\u001b[0m\u001b[0mi\u001b[0m\u001b[0;34m]\u001b[0m\u001b[0;34m[\u001b[0m\u001b[0;36m8\u001b[0m\u001b[0;34m]\u001b[0m\u001b[0;34m-\u001b[0m\u001b[0mresults\u001b[0m\u001b[0;34m[\u001b[0m\u001b[0mi\u001b[0m\u001b[0;34m]\u001b[0m\u001b[0;34m[\u001b[0m\u001b[0;36m0\u001b[0m\u001b[0;34m]\u001b[0m\u001b[0;34m)\u001b[0m\u001b[0;34m[\u001b[0m\u001b[0;36m0\u001b[0m\u001b[0;34m]\u001b[0m \u001b[0;32mfor\u001b[0m \u001b[0mi\u001b[0m \u001b[0;32min\u001b[0m \u001b[0mrange\u001b[0m\u001b[0;34m(\u001b[0m\u001b[0mlen\u001b[0m\u001b[0;34m(\u001b[0m\u001b[0mresults\u001b[0m\u001b[0;34m)\u001b[0m\u001b[0;34m)\u001b[0m\u001b[0;34m]\u001b[0m\u001b[0;34m)\u001b[0m\u001b[0;34m>\u001b[0m\u001b[0;36m0\u001b[0m\u001b[0;34m\u001b[0m\u001b[0;34m\u001b[0m\u001b[0m\n\u001b[0m",
      "\u001b[0;32m<ipython-input-702-19db05374b7e>\u001b[0m in \u001b[0;36m<listcomp>\u001b[0;34m(.0)\u001b[0m\n\u001b[0;32m----> 1\u001b[0;31m \u001b[0mnp\u001b[0m\u001b[0;34m.\u001b[0m\u001b[0marray\u001b[0m\u001b[0;34m(\u001b[0m\u001b[0;34m[\u001b[0m\u001b[0;34m(\u001b[0m\u001b[0mresults\u001b[0m\u001b[0;34m[\u001b[0m\u001b[0mi\u001b[0m\u001b[0;34m]\u001b[0m\u001b[0;34m[\u001b[0m\u001b[0;36m8\u001b[0m\u001b[0;34m]\u001b[0m\u001b[0;34m-\u001b[0m\u001b[0mresults\u001b[0m\u001b[0;34m[\u001b[0m\u001b[0mi\u001b[0m\u001b[0;34m]\u001b[0m\u001b[0;34m[\u001b[0m\u001b[0;36m0\u001b[0m\u001b[0;34m]\u001b[0m\u001b[0;34m)\u001b[0m\u001b[0;34m[\u001b[0m\u001b[0;36m0\u001b[0m\u001b[0;34m]\u001b[0m \u001b[0;32mfor\u001b[0m \u001b[0mi\u001b[0m \u001b[0;32min\u001b[0m \u001b[0mrange\u001b[0m\u001b[0;34m(\u001b[0m\u001b[0mlen\u001b[0m\u001b[0;34m(\u001b[0m\u001b[0mresults\u001b[0m\u001b[0;34m)\u001b[0m\u001b[0;34m)\u001b[0m\u001b[0;34m]\u001b[0m\u001b[0;34m)\u001b[0m\u001b[0;34m>\u001b[0m\u001b[0;36m0\u001b[0m\u001b[0;34m\u001b[0m\u001b[0;34m\u001b[0m\u001b[0m\n\u001b[0m",
      "\u001b[0;31mTypeError\u001b[0m: 'int' object is not subscriptable"
     ]
    }
   ],
   "source": [
    "np.array([(results[i][8]-results[i][0])[0] for i in range(len(results))])>0"
   ]
  },
  {
   "cell_type": "code",
   "execution_count": 738,
   "metadata": {},
   "outputs": [],
   "source": [
    "idx=[]\n",
    "diff=[]\n",
    "for i in range(len(results)):\n",
    "    if type(results[i])==int:\n",
    "        idx=idx\n",
    "    elif results[i][8]-results[i][0] > 772042:\n",
    "        idx+=[i]\n",
    "        diff +=[results[i][8]-results[i][0]]"
   ]
  },
  {
   "cell_type": "code",
   "execution_count": 752,
   "metadata": {},
   "outputs": [
    {
     "data": {
      "text/plain": [
       "['112328',\n",
       " '109692',\n",
       " '117824',\n",
       " '118143',\n",
       " '126887',\n",
       " '127080',\n",
       " '162690',\n",
       " '173449',\n",
       " '189329']"
      ]
     },
     "execution_count": 752,
     "metadata": {},
     "output_type": "execute_result"
    }
   ],
   "source": [
    "tracts[15]\n",
    "[get_tract_income(df,'615') for df in lst_df_incomes]\n",
    "# [get_tract_demo(df,'615') for df in lst_df_demo]\n",
    "\n",
    "# tract_housing_prices.loc['615']"
   ]
  },
  {
   "cell_type": "code",
   "execution_count": 736,
   "metadata": {},
   "outputs": [
    {
     "data": {
      "text/plain": [
       "['126.01',\n",
       " '126.02',\n",
       " '127',\n",
       " '128',\n",
       " '129.01',\n",
       " '129.02',\n",
       " '130',\n",
       " '131.01',\n",
       " '131.02',\n",
       " '132',\n",
       " '133',\n",
       " '134',\n",
       " '135',\n",
       " '152',\n",
       " '153',\n",
       " '154',\n",
       " '156',\n",
       " '157',\n",
       " '165',\n",
       " '169',\n",
       " '170',\n",
       " '177',\n",
       " '201',\n",
       " '202',\n",
       " '203',\n",
       " '204.01',\n",
       " '205',\n",
       " '206',\n",
       " '207',\n",
       " '208',\n",
       " '209',\n",
       " '210',\n",
       " '211',\n",
       " '212',\n",
       " '213',\n",
       " '214',\n",
       " '215',\n",
       " '216',\n",
       " '217',\n",
       " '218',\n",
       " '228.01',\n",
       " '228.02',\n",
       " '228.03',\n",
       " '229.01',\n",
       " '229.02',\n",
       " '229.03',\n",
       " '301.01',\n",
       " '301.02',\n",
       " '302.01',\n",
       " '302.02',\n",
       " '303.01',\n",
       " '303.02',\n",
       " '401',\n",
       " '402',\n",
       " '426.01',\n",
       " '426.02',\n",
       " '427',\n",
       " '428',\n",
       " '451',\n",
       " '452',\n",
       " '476',\n",
       " '477.01',\n",
       " '477.02',\n",
       " '478.01',\n",
       " '478.02',\n",
       " '479.01',\n",
       " '479.02',\n",
       " '601']"
      ]
     },
     "execution_count": 736,
     "metadata": {},
     "output_type": "execute_result"
    }
   ],
   "source": [
    "neighborhoods_gentrified = [tracts[x] for x in idx]\n",
    "neighborhoods_gentrified"
   ]
  },
  {
   "cell_type": "code",
   "execution_count": null,
   "metadata": {},
   "outputs": [],
   "source": []
  }
 ],
 "metadata": {
  "kernelspec": {
   "display_name": "Python 3",
   "language": "python",
   "name": "python3"
  },
  "language_info": {
   "codemirror_mode": {
    "name": "ipython",
    "version": 3
   },
   "file_extension": ".py",
   "mimetype": "text/x-python",
   "name": "python",
   "nbconvert_exporter": "python",
   "pygments_lexer": "ipython3",
   "version": "3.7.2"
  }
 },
 "nbformat": 4,
 "nbformat_minor": 4
}
