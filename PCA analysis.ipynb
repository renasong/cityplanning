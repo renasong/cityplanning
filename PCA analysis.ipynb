{
 "cells": [
  {
   "cell_type": "code",
   "execution_count": 540,
   "metadata": {},
   "outputs": [],
   "source": [
    "import pandas as pd\n",
    "import numpy as np\n",
    "import matplotlib.pyplot as plt"
   ]
  },
  {
   "cell_type": "code",
   "execution_count": 1039,
   "metadata": {},
   "outputs": [],
   "source": [
    "#Median Income\n",
    "Y2018 = pd.read_csv('2018_med_income.csv')\n",
    "Y2018 = Y2018.set_index(Y2018['Geographic Area Name'].str.extract('(\\d+.*\\d+)')[0])[:-2]\n",
    "Y2017 = pd.read_csv('2017_med_income.csv')\n",
    "Y2017 = Y2017.set_index(Y2017['Geographic Area Name'].str.extract('(\\d+.*\\d+)')[0])[:-2]\n",
    "Y2016 = pd.read_csv('2016_med_income.csv')\n",
    "Y2016 = Y2016.set_index(Y2016['Geographic Area Name'].str.extract('(\\d+.*\\d+)')[0])[:-2]\n",
    "Y2015 = pd.read_csv('2015_med_income.csv')\n",
    "Y2015 = Y2015.set_index(Y2015['Geographic Area Name'].str.extract('(\\d+.*\\d+)')[0])[:-2]\n",
    "Y2014 = pd.read_csv('2014_med_income.csv')\n",
    "Y2014 = Y2014.set_index(Y2014['Geographic Area Name'].str.extract('(\\d+.*\\d+)')[0])[:-2]\n",
    "Y2013 = pd.read_csv('2013_med_income.csv')\n",
    "Y2013 = Y2013.set_index(Y2013['Geographic Area Name'].str.extract('(\\d+.*\\d+)')[0])[:-2]\n",
    "Y2012 = pd.read_csv('2012_med_income.csv')\n",
    "Y2012 = Y2012.set_index(Y2012['Geographic Area Name'].str.extract('(\\d+.*\\d+)')[0])[:-2]\n",
    "Y2011 = pd.read_csv('2011_med_income.csv')\n",
    "Y2011 = Y2011.set_index(Y2011['Geographic Area Name'].str.extract('(\\d+.*\\d+)')[0])[:-2]\n",
    "Y2010 = pd.read_csv('2010_med_income.csv')\n",
    "Y2010 = Y2010.set_index(Y2010['Geographic Area Name'].str.extract('(\\d+.*\\d+)')[0])[:-2]\n",
    "lst = Y2010.index.tolist()\n",
    "idx = lst.index('615.00')\n",
    "lst[idx] = '615'\n",
    "Y2010.index = lst\n",
    "\n",
    "def get_avg_income(df):\n",
    "    df = df.drop(df.columns[[-1,-2,-3,-4]], axis=1)\n",
    "    df = df.set_index(df['Geographic Area Name'].str.extract('(\\d+.*\\d+)')[0])\n",
    "\n",
    "    household = df.iloc[:,2]\n",
    "    household = household[household!='-']\n",
    "    household = household[household!='(X)']\n",
    "    return np.average(household.astype(float))\n",
    "\n",
    "sf_median_income = [get_avg_income(Y2010),get_avg_income(Y2011),get_avg_income(Y2012),get_avg_income(Y2013),\n",
    "                    get_avg_income(Y2014),get_avg_income(Y2015),get_avg_income(Y2016),get_avg_income(Y2017),\n",
    "                    get_avg_income(Y2018)]\n",
    "\n",
    "def get_tract_income(df,tract):\n",
    "    return df.iloc[:,2][tract]\n",
    "\n",
    "\n",
    "tracts = Y2018['Geographic Area Name'].str.extract('(\\d+.*\\d+)')[0]"
   ]
  },
  {
   "cell_type": "code",
   "execution_count": 551,
   "metadata": {},
   "outputs": [],
   "source": [
    "#demographics\n",
    "dem_2018 = pd.read_csv('2018_demographic.csv')\n",
    "dem_2018 = dem_2018.set_index(dem_2018['Geographic Area Name'].str.extract('(\\d+.*\\d+)')[0])\n",
    "dem_2017 = pd.read_csv('2017_demographic.csv')\n",
    "dem_2017 = dem_2017.set_index(dem_2017['Geographic Area Name'].str.extract('(\\d+.*\\d+)')[0])\n",
    "dem_2016 = pd.read_csv('2016_demographic.csv')\n",
    "dem_2016 = dem_2016.set_index(dem_2016['Geographic Area Name'].str.extract('(\\d+.*\\d+)')[0])\n",
    "dem_2015 = pd.read_csv('2015_demographic.csv')\n",
    "dem_2015 = dem_2015.set_index(dem_2015['Geographic Area Name'].str.extract('(\\d+.*\\d+)')[0])\n",
    "dem_2014 = pd.read_csv('2014_demographic.csv')\n",
    "dem_2014 = dem_2014.set_index(dem_2014['Geographic Area Name'].str.extract('(\\d+.*\\d+)')[0])\n",
    "dem_2013 = pd.read_csv('2013_demographic.csv')\n",
    "dem_2013 = dem_2013.set_index(dem_2013['Geographic Area Name'].str.extract('(\\d+.*\\d+)')[0])\n",
    "dem_2012 = pd.read_csv('2012_demographic.csv')\n",
    "dem_2012 = dem_2012.set_index(dem_2012['Geographic Area Name'].str.extract('(\\d+.*\\d+)')[0])\n",
    "dem_2011 = pd.read_csv('2011_demographic.csv')\n",
    "dem_2011 = dem_2011.set_index(dem_2011['Geographic Area Name'].str.extract('(\\d+.*\\d+)')[0])\n",
    "dem_2010 = pd.read_csv('2010_demographic.csv')\n",
    "dem_2010 = dem_2010.set_index(dem_2010['Geographic Area Name'].str.extract('(\\d+.*\\d+)')[0])\n",
    "lst_dem = dem_2010.index.tolist()\n",
    "idx = lst_dem.index('615.00')\n",
    "lst_dem[idx] = '615'\n",
    "dem_2010.index = lst_dem\n",
    "\n",
    "def get_avg_demographics(df):\n",
    "    minority = df.iloc[:,4]/ df.iloc[:,2]\n",
    "    return minority.mean()\n",
    "\n",
    "sf_white = [get_avg_demographics(dem_2010),get_avg_demographics(dem_2011),get_avg_demographics(dem_2012),\n",
    "                  get_avg_demographics(dem_2013),get_avg_demographics(dem_2014),get_avg_demographics(dem_2015),\n",
    "                  get_avg_demographics(dem_2016),get_avg_demographics(dem_2017),get_avg_demographics(dem_2018)]\n",
    "\n",
    "def get_tract_demo(df,tract):\n",
    "    return (df.iloc[:,4]/ df.iloc[:,2]).loc[tract]"
   ]
  },
  {
   "cell_type": "code",
   "execution_count": 933,
   "metadata": {},
   "outputs": [],
   "source": [
    "#housing price\n",
    "housing = pd.read_csv('Effect - Housing Prices (Zillow).csv')\n",
    "housing = housing.drop(['Metro','StateName','State','City','RegionType','CountyName'],axis=1)\n",
    "dates = list(housing.columns[housing.columns.str.match('12/31/1[0-8]{1}')])\n",
    "housing = housing[['RegionName']+dates]\n",
    "sf_housing_prices = housing[dates].mean()"
   ]
  },
  {
   "cell_type": "code",
   "execution_count": 1019,
   "metadata": {},
   "outputs": [],
   "source": [
    "#Housing price II Mapping neighborhoods\n",
    "sf_nhood = pd.read_csv('sf_neighborhoods')\n",
    "new = []\n",
    "for x in sf_nhood.NAME:\n",
    "    if x%1==0:\n",
    "        new += [str(int(x))]\n",
    "        \n",
    "    else:\n",
    "        new += [str(x)]\n",
    "        \n",
    "sf_nhood['NAME']=new\n",
    "sf_nhood = sf_nhood.set_index(sf_nhood.NAME)"
   ]
  },
  {
   "cell_type": "code",
   "execution_count": 1040,
   "metadata": {},
   "outputs": [
    {
     "data": {
      "text/plain": [
       "{'155', '179.02', '9802', '9803', '9804.01', '9805.01', '9901'}"
      ]
     },
     "execution_count": 1040,
     "metadata": {},
     "output_type": "execute_result"
    }
   ],
   "source": [
    "#Data cleaning\n",
    "sf_nhood.NHOOD.loc['328.01']='Parkside'\n",
    "sf_nhood.NHOOD.loc['328.02']='Parkside'\n",
    "sf_nhood.NHOOD.loc['329.01']='Parkside'\n",
    "sf_nhood.NHOOD.loc['329.02']='Parkside'\n",
    "sf_nhood.NHOOD.loc['329.02']='Parkside'\n",
    "sf_nhood.NHOOD.loc['331']='Parkside'\n",
    "sf_nhood.NHOOD.loc['330']='Parkside'\n",
    "sf_nhood.NHOOD.loc['353']='Parkside'\n",
    "sf_nhood.NHOOD.loc['354']='Parkside'\n",
    "\n",
    "sf_nhood.NHOOD.loc['326.01']='Outer Sunset'\n",
    "sf_nhood.NHOOD.loc['326.02']='Outer Sunset'\n",
    "sf_nhood.NHOOD.loc['327']='Outer Sunset'\n",
    "sf_nhood.NHOOD.loc['352.01']='Outer Sunset'\n",
    "sf_nhood.NHOOD.loc['352.02']='Outer Sunset'\n",
    "sf_nhood.NHOOD.loc['351']='Outer Sunset'\n",
    "\n",
    "sf_nhood.NHOOD.loc['615']='South Beach'\n",
    "sf_nhood.NHOOD.loc['105']='Financial District'\n",
    "sf_nhood.NHOOD.loc['117']='Financial District'\n",
    "\n",
    "sf_nhood.NHOOD.loc['612']='Bayview'\n",
    "sf_nhood.NHOOD.loc['231.02']='Bayview'\n",
    "sf_nhood.NHOOD.loc['232']='Bayview'\n",
    "sf_nhood.NHOOD.loc['233']='Bayview'\n",
    "sf_nhood.NHOOD.loc['234']='Bayview'\n",
    "sf_nhood.NHOOD.loc['9809']='Bayview'\n",
    "sf_nhood.NHOOD.loc['610']='Bayview'\n",
    "sf_nhood.NHOOD.loc['230.03']='Bayview'\n",
    "sf_nhood.NHOOD.loc['230.01']='Bayview'\n",
    "\n",
    "\n",
    "sf_nhood.NHOOD.loc['231.03']='Hunters Point'\n",
    "sf_nhood.NHOOD.loc['9806']='Hunters Point'\n",
    "\n",
    "sf_nhood.NHOOD.loc['312.01']='Ingleside'\n",
    "sf_nhood.NHOOD.loc['312.02']='Ingleside'\n",
    "sf_nhood.NHOOD.loc['314']='Oceanview'\n",
    "sf_nhood.NHOOD.loc['313.02']='Oceanview'\n",
    "sf_nhood.NHOOD.loc['313.01']='Ingleside Heights'\n",
    "\n",
    "sf_nhood.NHOOD.loc['305']='Midtown Terrace'\n",
    "sf_nhood.NHOOD.loc['204.02']='Midtown Terrace'\n",
    "sf_nhood.NHOOD.loc['310']='Westwood Highlands'\n",
    "sf_nhood.NHOOD.loc['304']='Forest Hill'\n",
    "sf_nhood.NHOOD.loc['306']='Forest Hill'\n",
    "sf_nhood.NHOOD.loc['307']='Miraloma Park'\n",
    "sf_nhood.NHOOD.loc['308']='St. Francis Wood'\n",
    "sf_nhood.NHOOD.loc['309']='St. Francis Wood'\n",
    "sf_nhood.NHOOD.loc['311']='Sunnyside'\n",
    "\n",
    "# list(housing.RegionName).index(\"Oceanview\")\n",
    "housing.RegionName.iloc[43]='Castro/Upper Market'\n",
    "housing.RegionName.iloc[26]='Oceanview'\n",
    "housing.RegionName.iloc[38]='Haight Ashbury'\n",
    "housing.RegionName.iloc[28]='Lone Mountain/USF'\n",
    "\n",
    "common = sf_nhood[['NAME','NHOOD']].merge(housing,left_on='NHOOD',right_on='RegionName')\n",
    "tract_housing_prices = common.set_index('NAME')[dates]\n",
    "\n",
    "\n",
    "#Missing housing prices census tracts\n",
    "set(tracts) - set(common.NAME)"
   ]
  },
  {
   "cell_type": "code",
   "execution_count": 1041,
   "metadata": {},
   "outputs": [],
   "source": [
    "#coffee shops\n",
    "coffee = pd.read_csv('coffee_sf_filtered.csv')"
   ]
  },
  {
   "cell_type": "code",
   "execution_count": 1042,
   "metadata": {},
   "outputs": [],
   "source": [
    "#evictions\n"
   ]
  },
  {
   "cell_type": "code",
   "execution_count": 1043,
   "metadata": {},
   "outputs": [
    {
     "data": {
      "text/plain": [
       "array([772041.98940827])"
      ]
     },
     "execution_count": 1043,
     "metadata": {},
     "output_type": "execute_result"
    },
    {
     "data": {
      "image/png": "[encoded data removed]",
      "text/plain": [
       "<Figure size 432x288 with 1 Axes>"
      ]
     },
     "metadata": {
      "needs_background": "light"
     },
     "output_type": "display_data"
    }
   ],
   "source": [
    "#Gentrification index for SF\n",
    "from sklearn.decomposition import PCA\n",
    "\n",
    "years=pd.Series([2010,2011,2012,2013,2014,2015,2016,2017,2018])\n",
    "\n",
    "X = pd.DataFrame(sf_median_income)\n",
    "X = X.rename(columns={0: 'median_income'})\n",
    "X = X.set_index(years)\n",
    "X['housing_prices']=list(sf_housing_prices)\n",
    "X['minority']=sf_nonwhite\n",
    "X\n",
    "\n",
    "pca = PCA(n_components=1)\n",
    "plt.plot(pca.fit_transform(X))\n",
    "plt.title('SF Gentrification index')\n",
    "pca.fit_transform(X)[8]-pca.fit_transform(X)[0]"
   ]
  },
  {
   "cell_type": "code",
   "execution_count": 1136,
   "metadata": {},
   "outputs": [],
   "source": [
    "#Gentrification index for all census tracts\n",
    "tracts = Y2018['Geographic Area Name'].str.extract('(\\d+.*\\d+)')[0]\n",
    "\n",
    "lst_df_incomes = [Y2010,Y2011,Y2012,Y2013,Y2014,Y2015,Y2016,Y2017,Y2018]\n",
    "lst_df_demo = [dem_2010,dem_2011,dem_2012,dem_2013,dem_2014,dem_2015,dem_2016,dem_2017,dem_2018]\n",
    "\n",
    "def pca_per_tract(tract_str):\n",
    "\n",
    "    tract_med = [get_tract_income(x,tract_str) for x in lst_df_incomes]\n",
    "    tract_white = [get_tract_demo(x,tract_str) for x in lst_df_demo]\n",
    "    tract_house = list(tract_housing_prices.loc[tract_str])\n",
    "\n",
    "    X = pd.DataFrame(zip(tract_med,tract_race,tract_house),columns=[\"tract_med\",'tract_white','tract_house'])\n",
    "    \n",
    "    pca = PCA(n_components=1)\n",
    "    y = pca.fit_transform(X)\n",
    "    return y\n",
    "\n",
    "results=[]\n",
    "for x in tracts:\n",
    "    try:\n",
    "        results+= [pca_per_tract(x)]\n",
    "    except:\n",
    "        results+= [0]"
   ]
  },
  {
   "cell_type": "code",
   "execution_count": 1137,
   "metadata": {},
   "outputs": [],
   "source": [
    "# tract_str='615'\n",
    "# common\n",
    "# tract_housing_prices.loc[tract_str]\n"
   ]
  },
  {
   "cell_type": "code",
   "execution_count": 1140,
   "metadata": {},
   "outputs": [],
   "source": [
    "idx=[]\n",
    "diff=[]\n",
    "for i in range(len(results)):\n",
    "    if type(results[i])==int:\n",
    "        idx=idx\n",
    "    elif results[i][8]-results[i][0] > 772042:\n",
    "        idx+=[i]\n",
    "        diff +=[results[i][8]-results[i][0]]"
   ]
  },
  {
   "cell_type": "code",
   "execution_count": 1141,
   "metadata": {},
   "outputs": [
    {
     "data": {
      "text/plain": [
       "['119.01',\n",
       " '111',\n",
       " '176.01',\n",
       " '166',\n",
       " '167',\n",
       " '177',\n",
       " '168.02',\n",
       " '178.01',\n",
       " '169',\n",
       " '107']"
      ]
     },
     "execution_count": 1141,
     "metadata": {},
     "output_type": "execute_result"
    }
   ],
   "source": [
    "diff = np.array([x[0]for x in diff])\n",
    "idx = diff.argsort()[-10:][::-1]\n",
    "\n",
    "neighborhoods_gentrified = [tracts[x] for x in idx]\n",
    "neighborhoods_gentrified"
   ]
  },
  {
   "cell_type": "code",
   "execution_count": 1142,
   "metadata": {},
   "outputs": [
    {
     "data": {
      "text/plain": [
       "['52019',\n",
       " '49755',\n",
       " '61292',\n",
       " '62204',\n",
       " '75333',\n",
       " '76563',\n",
       " '79167',\n",
       " '83672',\n",
       " '96071']"
      ]
     },
     "execution_count": 1142,
     "metadata": {},
     "output_type": "execute_result"
    }
   ],
   "source": [
    "tract_str = '168.02'\n",
    "[get_tract_income(x,tract_str) for x in lst_df_incomes]\n",
    "# [get_tract_demo(x,tract_str) for x in lst_df_demo]\n",
    "# list(tract_housing_prices.loc[tract_str])\n",
    "\n",
    "# X = pd.DataFrame(zip(tract_med,tract_race,tract_house),columns=[\"tract_med\",'tract_white','tract_house'])\n",
    "\n",
    "# pca = PCA(n_components=1)\n",
    "# y = pca.fit_transform(X)\n",
    "# plt.plot(y)"
   ]
  },
  {
   "cell_type": "code",
   "execution_count": null,
   "metadata": {},
   "outputs": [],
   "source": []
  }
 ],
 "metadata": {
  "kernelspec": {
   "display_name": "Python 3",
   "language": "python",
   "name": "python3"
  },
  "language_info": {
   "codemirror_mode": {
    "name": "ipython",
    "version": 3
   },
   "file_extension": ".py",
   "mimetype": "text/x-python",
   "name": "python",
   "nbconvert_exporter": "python",
   "pygments_lexer": "ipython3",
   "version": "3.7.3"
  }
 },
 "nbformat": 4,
 "nbformat_minor": 4
}
